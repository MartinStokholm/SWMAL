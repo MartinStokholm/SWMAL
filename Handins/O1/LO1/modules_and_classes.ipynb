{
 "cells": [
  {
   "cell_type": "markdown",
   "metadata": {},
   "source": [
    "# SWMAL Exercise\n",
    "\n",
    "## Python Basics\n",
    "\n",
    "### Modules and Packages in Python\n",
    "\n",
    "#### Qa Load and test the `libitmal` module\n",
    "\n",
    "In this chapter we will load and test the `libitmal` module that was given in the assignment. \n"
   ]
  },
  {
   "cell_type": "code",
   "execution_count": 2,
   "metadata": {
    "ExecuteTime": {
     "end_time": "2023-09-28T12:14:35.548719Z",
     "start_time": "2023-09-28T12:14:35.540504Z"
    }
   },
   "outputs": [
    {
     "name": "stdout",
     "output_type": "stream",
     "text": [
      "['AssertInRange', 'CheckFloat', 'DToXy', 'GenerateConfusionMatrix', 'GenerateResults', 'InRange', 'Iterable', 'ListToMatrix', 'ListToVector', 'PrintMatrix', 'ResetRandom', 'ShowResult', 'TEST', 'TestAll', 'TestCheckFloat', 'TestPrintMatrix', 'TestVarName', 'VarName', 'XyToD', '__builtins__', '__cached__', '__doc__', '__file__', '__loader__', '__name__', '__package__', '__spec__', '__warningregistry__', 'ctxlib', 'inf', 'inspect', 'isFloat', 'isList', 'isNumpyArray', 'nan', 'np', 'random', 're', 'sklearn']\n",
      "/Users/christianduwekonnerup/PycharmProjects/SWMAL/libitmal/utils.py\n",
      "TestPrintMatrix...(no regression testing)\n",
      "X=[[   1.    2.]\n",
      "   [   3. -100.]\n",
      "   [   1.   -1.]]\n",
      "X=[[ 1.  2.]\n",
      "   ...\n",
      "   [ 1. -1.]]\n",
      "X=[[   1.\n",
      "       2.    ]\n",
      "   [   3.0001\n",
      "    -100.    ]\n",
      "   [   1.\n",
      "      -1.    ]]\n",
      "X=[[   1.    2.]\n",
      "   [   3. -100.]\n",
      "   [   1.   -1.]]\n",
      "OK\n",
      "TEST: OK\n",
      "ALL OK\n"
     ]
    }
   ],
   "source": [
    "from libitmal import utils as itmalutils \n",
    "\n",
    "print(dir(itmalutils))\n",
    "print(itmalutils.__file__)\n",
    "itmalutils.TestAll()"
   ]
  },
  {
   "cell_type": "markdown",
   "metadata": {},
   "source": [
    "#### Qb Create your own module, with some functions, and test it\n",
    "\n",
    "In this assignment we are going to create our own module called `LO1Utils` and import the `utils` from that module. To create our module, we made a directory called LO1Utils and placed the `utils.py` in that folder. "
   ]
  },
  {
   "cell_type": "code",
   "execution_count": 2,
   "metadata": {
    "ExecuteTime": {
     "end_time": "2023-09-14T11:52:10.179818Z",
     "start_time": "2023-09-14T11:52:10.176479Z"
    }
   },
   "outputs": [
    {
     "name": "stdout",
     "output_type": "stream",
     "text": [
      "Hello world! And hello Duwe\n",
      "Goodbye cruel world! And goodbye Duwe\n"
     ]
    }
   ],
   "source": [
    "from LO1Utils import utils\n",
    "\n",
    "utils.helloworld(\"Duwe\")\n",
    "utils.goodbyeworld(\"Duwe\")"
   ]
  },
  {
   "cell_type": "markdown",
   "metadata": {},
   "source": [
    "#### Qc How do you 'recompile' a module?\n",
    "\n",
    "When working Jupyter Notebooks it necessary to reload modules after they have been changes, as the Notebooks makes a cache of all modules used. To help reload modules we can use the importlib module to force reload our modules on each run.   "
   ]
  },
  {
   "cell_type": "code",
   "execution_count": null,
   "metadata": {},
   "outputs": [],
   "source": [
    "import newfile \n",
    "import importlib\n",
    "\n",
    "#changes are made to newfile.py file\n",
    "importlib.reload(newfile)"
   ]
  },
  {
   "cell_type": "markdown",
   "metadata": {},
   "source": [
    "__Using Magic Commands__\n",
    "It is alse possible to reload modules using Magic Commands. "
   ]
  },
  {
   "cell_type": "code",
   "execution_count": 3,
   "metadata": {
    "ExecuteTime": {
     "end_time": "2023-09-14T11:52:10.235182Z",
     "start_time": "2023-09-14T11:52:10.179475Z"
    }
   },
   "outputs": [],
   "source": [
    "%reloadload_ext autoreload \n",
    "%autoreload"
   ]
  },
  {
   "cell_type": "markdown",
   "metadata": {},
   "source": [
    "This is found in the documentation here:\n",
    "https://saturncloud.io/blog/jupyter-notebook-reload-module-a-comprehensive-guide/"
   ]
  },
  {
   "cell_type": "markdown",
   "metadata": {},
   "source": [
    "#### Qe Extend the class with some public and private functions and member variables\n",
    "In python to add member variables we can use the `self` keyword to make different member variables. In our example we make a member variable called name which we can give to the print function to print out the name given in the function call. "
   ]
  },
  {
   "cell_type": "code",
   "execution_count": 4,
   "metadata": {
    "ExecuteTime": {
     "end_time": "2023-09-28T12:27:07.333035Z",
     "start_time": "2023-09-28T12:27:07.324117Z"
    }
   },
   "outputs": [
    {
     "name": "stdout",
     "output_type": "stream",
     "text": [
      "Hello Duwe from myutils\n"
     ]
    }
   ],
   "source": [
    "class MyUtils: \n",
    "    def helloworld(self, name):\n",
    "        self.name = name\n",
    "        print(f\"Hello {self.name} from myutils\")\n",
    "        \n",
    "myutils = MyUtils()\n",
    "myutils.helloworld(\"Duwe\")"
   ]
  },
  {
   "cell_type": "markdown",
   "metadata": {},
   "source": [
    "#### Qf Extend the class with a Constructor\n",
    "\n",
    "To add a constructor to a python class we use the `__init__` function, to do something when a class is constructed. A baseline constructor only takes a the `self` parameter, but we have added a one additional parameter to show how we would display a message given in the constructor.  "
   ]
  },
  {
   "cell_type": "code",
   "execution_count": 2,
   "metadata": {
    "ExecuteTime": {
     "end_time": "2023-09-14T11:52:10.245758Z",
     "start_time": "2023-09-14T11:52:10.241330Z"
    }
   },
   "outputs": [
    {
     "name": "stdout",
     "output_type": "stream",
     "text": [
      "MyUtils msg is: hello world\n"
     ]
    }
   ],
   "source": [
    "class MyUtils:\n",
    "    def __init__(self, msg):\n",
    "        self.mymsg = msg\n",
    "\n",
    "    def printMsg(self):\n",
    "        print(f\"MyUtils msg is: {self.mymsg}\")\n",
    "\n",
    "myutils = MyUtils(\"hello world\")\n",
    "myutils.printMsg()"
   ]
  },
  {
   "cell_type": "markdown",
   "metadata": {},
   "source": [
    "#### Qg Extend the class with a to-string function\n",
    "\n",
    "Here we show how to make a tostring() function i Python.\n"
   ]
  },
  {
   "cell_type": "code",
   "execution_count": 1,
   "metadata": {
    "ExecuteTime": {
     "end_time": "2023-09-14T11:52:10.245965Z",
     "start_time": "2023-09-14T11:52:10.243005Z"
    }
   },
   "outputs": [
    {
     "name": "stdout",
     "output_type": "stream",
     "text": [
      "Hello\n"
     ]
    }
   ],
   "source": [
    "class MyString:\n",
    "    def __init__(self, mystring):\n",
    "        self.mystring = mystring\n",
    "\n",
    "print(MyString(\"Hello\").mystring)"
   ]
  }
 ],
 "metadata": {
  "kernelspec": {
   "display_name": "Python 3 (ipykernel)",
   "language": "python",
   "name": "python3"
  },
  "language_info": {
   "codemirror_mode": {
    "name": "ipython",
    "version": 3
   },
   "file_extension": ".py",
   "mimetype": "text/x-python",
   "name": "python",
   "nbconvert_exporter": "python",
   "pygments_lexer": "ipython3",
   "version": "3.11.4"
  },
  "varInspector": {
   "cols": {
    "lenName": 16,
    "lenType": 16,
    "lenVar": 40
   },
   "kernels_config": {
    "python": {
     "delete_cmd_postfix": "",
     "delete_cmd_prefix": "del ",
     "library": "var_list.py",
     "varRefreshCmd": "print(var_dic_list())"
    },
    "r": {
     "delete_cmd_postfix": ") ",
     "delete_cmd_prefix": "rm(",
     "library": "var_list.r",
     "varRefreshCmd": "cat(var_dic_list()) "
    }
   },
   "position": {
    "height": "144.517px",
    "left": "666px",
    "right": "20px",
    "top": "425px",
    "width": "350px"
   },
   "types_to_exclude": [
    "module",
    "function",
    "builtin_function_or_method",
    "instance",
    "_Feature"
   ],
   "window_display": true
  }
 },
 "nbformat": 4,
 "nbformat_minor": 2
}
