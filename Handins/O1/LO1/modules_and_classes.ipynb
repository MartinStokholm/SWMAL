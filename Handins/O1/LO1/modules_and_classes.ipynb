{
 "cells": [
  {
   "cell_type": "code",
   "execution_count": 1,
   "outputs": [
    {
     "data": {
      "text/plain": "<IPython.core.display.Markdown object>",
      "text/markdown": "<h1 align=\"center\">SWMAL</h1>\n<h3 align=\"center\">Assignment O1</h3>\n<h3 align=\"center\">Group 24</h3>\n<h5 align=\"center\">September 15 2023</h5>\n\n\n|Name|Student Number |\n|:---|:---|\n|Sean Harboe Bateman|200203025|\n|Martin Stokholm Lauridsen|201908195|\n|Christain Duwe Konnerup|202010016|"
     },
     "metadata": {},
     "output_type": "display_data"
    }
   ],
   "source": [
    "from IPython.display import Markdown, display\n",
    "display(Markdown(\"header.md\"))"
   ],
   "metadata": {
    "collapsed": false,
    "ExecuteTime": {
     "end_time": "2023-09-15T08:47:31.326051700Z",
     "start_time": "2023-09-15T08:47:31.289762500Z"
    }
   }
  },
  {
   "cell_type": "markdown",
   "metadata": {},
   "source": [
    "# SWMAL Exercise\n",
    "\n",
    "## Python Basics\n",
    "\n",
    "### Modules and Packages in Python\n",
    "\n",
    "Reuse of code in Jupyter notebooks can be done by either including a raw python source as a magic command\n",
    "\n",
    "```python\n",
    "%load filename.py\n",
    "```\n",
    "but this just pastes the source into the notebook and creates all kinds of pains regarding code maintenance.\n",
    "\n",
    "A better way is to use a python __module__. A module consists simply (and pythonic) of a directory with a module init file in it (possibly empty) \n",
    "```python\n",
    "libitmal/__init__.py\n",
    "```\n",
    "To this directory you can add modules in form of plain python files, say\n",
    "```python\n",
    "libitmal/utils.py\n",
    "```\n",
    "That's about it! The `libitmal` file tree should now look like\n",
    "```\n",
    "libitmal/\n",
    "├── __init__.py\n",
    "├── __pycache__\n",
    "│   ├── __init__.cpython-36.pyc\n",
    "│   └── utils.cpython-36.pyc\n",
    "├── utils.py\n",
    "```\n",
    "with the cache part only being present once the module has been initialized.\n",
    "\n",
    "You should now be able to use the `libitmal` unit via an import directive, like\n",
    "```python\n",
    "import numpy as np\n",
    "from libitmal import utils as itmalutils\n",
    "\n",
    "print(dir(itmalutils))\n",
    "print(itmalutils.__file__)\n",
    "\n",
    "X = np.array([[1,2],[3,-100]])\n",
    "itmalutils.PrintMatrix(X,\"mylabel=\")\n",
    "itmalutils.TestAll()\n",
    "```\n",
    "\n",
    "#### Qa Load and test the `libitmal` module\n",
    "\n",
    "Try out the `libitmal` module from [GITMAL]. Load this module and run the function\n",
    "\n",
    "```python\n",
    "from libitmal import utils as itmalutils\n",
    "itmalutils.TestAll()\n",
    "```\n",
    "from this module.\n",
    "\n",
    "##### Implementation details\n",
    "\n",
    "Note that there is a python module ___include___ search path, that you may have to investigate and modify. For my Linux setup I have an export or declare statement in my .bashrc file, like\n",
    "\n",
    "```bash\n",
    "declare -x PYTHONPATH=~/ASE/ML/itmal:$PYTHONPATH\n",
    "```\n",
    "but your ```itmal```, the [GITMAL] root dir, may be placed elsewhere.\n",
    "\n",
    "For ___Windows___, you have to add `PYTHONPATH` to your user environment variables...see screenshot below (enlarge by modding the image width-tag or find the original png in the Figs directory).\n",
    "\n",
    "<img src=\"https://itundervisning.ase.au.dk/SWMAL/L01/Figs/Screenshot_windows_enviroment_variables.png\" alt=\"WARNING: could not get image from server.\" style=\"height:250px\" style=\"width:350px\">\n",
    "\n",
    "or if you, like me, hate setting up things in a GUI, and prefer a console, try in a CMD on windows\n",
    "\n",
    "```bash\n",
    "CMD> setx.exe PYTHONPATH \"C:\\Users\\auXXYYZZ\\itmal\"\n",
    "```\n",
    "\n",
    "replacing the username and path with whatever you have. Note that some Windows installations have various security settings enables, so that running `setx.exe` fails. Setting up a MAC should be similar to Linux; just modify your `PYTHONPATH` setting (still to be proven correct?, CEF). \n",
    "\n",
    "\n",
    "If everything fails you could programmatically add your path to the libitmal directory as\n",
    "\n",
    "```python\n",
    "import sys,os\n",
    "sys.path.append(os.path.expanduser('~/itmal'))\n",
    "\n",
    "from libitmal import utils as itmalutils\n",
    "print(dir(itmalutils))\n",
    "print(itmalutils.__file__)\n",
    "```\n",
    "\n",
    "For the journal: remember to document your particular PATH setup."
   ]
  },
  {
   "cell_type": "code",
   "execution_count": 1,
   "metadata": {
    "ExecuteTime": {
     "end_time": "2023-09-14T11:52:10.178317Z",
     "start_time": "2023-09-14T11:52:06.912733Z"
    }
   },
   "outputs": [
    {
     "name": "stdout",
     "output_type": "stream",
     "text": [
      "['AssertInRange', 'CheckFloat', 'DToXy', 'GenerateConfusionMatrix', 'GenerateResults', 'InRange', 'Iterable', 'ListToMatrix', 'ListToVector', 'PrintMatrix', 'ResetRandom', 'ShowResult', 'TEST', 'TestAll', 'TestCheckFloat', 'TestPrintMatrix', 'TestVarName', 'VarName', 'XyToD', '__builtins__', '__cached__', '__doc__', '__file__', '__loader__', '__name__', '__package__', '__spec__', 'ctxlib', 'inf', 'inspect', 'isFloat', 'isList', 'isNumpyArray', 'nan', 'np', 'random', 're', 'sklearn']\n",
      "/Users/christianduwekonnerup/PycharmProjects/SWMAL/libitmal/utils.py\n",
      "TestPrintMatrix...(no regression testing)\n",
      "X=[[   1.    2.]\n",
      "   [   3. -100.]\n",
      "   [   1.   -1.]]\n",
      "X=[[ 1.  2.]\n",
      "   ...\n",
      "   [ 1. -1.]]\n",
      "X=[[   1.\n",
      "       2.    ]\n",
      "   [   3.0001\n",
      "    -100.    ]\n",
      "   [   1.\n",
      "      -1.    ]]\n",
      "X=[[   1.    2.]\n",
      "   [   3. -100.]\n",
      "   [   1.   -1.]]\n",
      "OK\n",
      "TEST: OK\n",
      "ALL OK\n"
     ]
    }
   ],
   "source": [
    "from libitmal import utils as itmalutils \n",
    "\n",
    "print(dir(itmalutils))\n",
    "print(itmalutils.__file__)\n",
    "itmalutils.TestAll()"
   ]
  },
  {
   "cell_type": "markdown",
   "metadata": {},
   "source": [
    "#### Qb Create your own module, with some functions, and test it\n",
    "\n",
    "Now create your own module, with some dummy functionality. Load it and run you dummy function in a Jupyter Notebook.\n",
    "\n",
    "Keep this module at hand, when coding, and try to capture reusable python functions in it as you invent them!\n",
    "\n",
    "For the journal: remember to document your particular library setup (where did you place files, etc)."
   ]
  },
  {
   "cell_type": "code",
   "execution_count": 2,
   "metadata": {
    "ExecuteTime": {
     "end_time": "2023-09-14T11:52:10.179818Z",
     "start_time": "2023-09-14T11:52:10.176479Z"
    }
   },
   "outputs": [
    {
     "name": "stdout",
     "output_type": "stream",
     "text": [
      "Hello world! And hello Duwe\n",
      "Goodbye cruel world! And goodbye Duwe\n"
     ]
    }
   ],
   "source": [
    "from LO1Utils import utils\n",
    "\n",
    "\n",
    "utils.helloworld(\"Duwe\")\n",
    "utils.goodbyeworld(\"Duwe\")\n",
    "\n"
   ]
  },
  {
   "cell_type": "markdown",
   "metadata": {},
   "source": [
    "#### Qc How do you 'recompile' a module?\n",
    "\n",
    "To recompile a module you can either restart the kernel or you can use the reload() function from importlib Module.\n",
    "\n",
    "\n",
    "__The importlib module provides a function called reload()__\n",
    "\n",
    "ex. "
   ]
  },
  {
   "cell_type": "code",
   "execution_count": null,
   "metadata": {},
   "outputs": [],
   "source": [
    "import newfile import importlib\n",
    "\n",
    "#changes are made to newfile.py file\n",
    "importlib.reload(newfile)"
   ]
  },
  {
   "cell_type": "markdown",
   "metadata": {},
   "source": [
    "__Using Magic Commands__\n"
   ]
  },
  {
   "cell_type": "code",
   "execution_count": 3,
   "metadata": {
    "ExecuteTime": {
     "end_time": "2023-09-14T11:52:10.235182Z",
     "start_time": "2023-09-14T11:52:10.179475Z"
    }
   },
   "outputs": [],
   "source": [
    "%reloadload_ext autoreload \n",
    "%autoreload"
   ]
  },
  {
   "cell_type": "markdown",
   "metadata": {},
   "source": [
    "This is found in the documentation here:\n",
    "https://saturncloud.io/blog/jupyter-notebook-reload-module-a-comprehensive-guide/"
   ]
  },
  {
   "cell_type": "markdown",
   "metadata": {},
   "source": [
    "#### [OPTIONAL] Qd Write a Howto on Python Modules a Packages\n",
    "\n",
    "Write a short description of how to use modules in Python (notes on modules path, import directives, directory structure, etc.)"
   ]
  },
  {
   "cell_type": "code",
   "execution_count": 4,
   "metadata": {
    "ExecuteTime": {
     "end_time": "2023-09-14T11:52:10.239900Z",
     "start_time": "2023-09-14T11:52:10.235573Z"
    }
   },
   "outputs": [],
   "source": [
    "# TODO: Qd..."
   ]
  },
  {
   "cell_type": "markdown",
   "metadata": {},
   "source": [
    "### Classes in Python\n",
    "\n",
    "Good news: Python got classes. Bad news: they are somewhat obscure compared to C++ classes. \n",
    "\n",
    "Though we will not use object-oriented programming in Python intensively, we still need some basic understanding of Python classes. Let's just dig into a class-demo, here is `MyClass` in Python\n",
    "\n",
    "```python\n",
    "class MyClass:\n",
    "   \n",
    "    def myfun(self):\n",
    "        self.myvar = \"blah\" # NOTE: a per class-instance variable.\n",
    "        print(f\"This is a message inside the class, myvar={self.myvar}.\")\n",
    "\n",
    "myobjectx = MyClass()\n",
    "```\n",
    "\n",
    "NOTE: The following exercise assumes some C++ knowledge, in particular the OPRG and OOP courses. If you are an EE-student, or from another Faculty, then ignore the cryptic C++ comments, and jump directly to some Python code instead. It's the Python solution here, that is important!\n",
    "\n",
    "#### Qe Extend the class with some public and private functions and member variables\n",
    "\n",
    "In Python, private functions and member variables are represented using a naming convention rather than strict access control like some other programming languages. The convention is as follows:\n",
    "\n",
    "Private Functions: To indicate that a function should be treated as private (not part of the public API and intended for internal use within the class), you can prefix its name with an underscore (e.g., _private_function()). While this naming convention suggests that the function is private, it doesn't prevent external access. It's more of a gentle reminder to other developers not to use it outside the class.\n",
    "\n",
    "Private Member Variables: Similarly, to indicate that a member variable should be treated as private, you can also prefix its name with an underscore (e.g., _private_variable). Again, this is just a convention, and Python doesn't enforce strict encapsulation, so you can still access the variable from outside the class if you want to.\n",
    "\n",
    "It's important to note that Python developers are expected to follow the convention and respect the privacy of functions and variables marked with underscores. However, it's not a technical restriction, and if you really need to access a private function or variable, Python won't prevent you from doing so. The philosophy is often summarized as \"We are all consenting adults here,\" meaning that developers are trusted to use these conventions responsibly.\n",
    "\n",
    "In Python classes, self is a reference to the instance of the class itself. It is the first argument to every method defined within a class and is used to access and manipulate the instance's attributes and methods. Think of self as a way to refer to the object that the method is being called on.\n",
    "\n",
    "Here's a breakdown of the role and meaning of self in Python classes:\n",
    "\n",
    "Reference to the Instance: When you create an instance of a class, such as obj = MyClass(), self within the methods of MyClass refers to the specific object obj. This allows you to work with the data and behavior associated with that particular instance.\n",
    "\n",
    "Accessing Attributes: Inside class methods, you can use self to access and modify instance-specific attributes. For example, self.attribute_name refers to an attribute of the instance.\n",
    "\n",
    "Calling Other Methods: You can call other methods of the same instance using self.method_name(). This allows methods to interact with each other and perform complex operations.\n",
    "\n",
    "Initialization: In the constructor method (usually named __init__()), self is used to initialize instance attributes. For example, self.name = name assigns the value of name to the name attribute of the instance.\n",
    "\n",
    "If you forget to include self as the first parameter in a method defined within a class, such as def myfun():, and then you try to call it using an instance of the class like myobjectx.myfun(), you will encounter a TypeError. This error occurs because when you call a method on an instance, Python automatically passes the instance itself (i.e., self) as the first argument to the method.\n",
    "\n",
    "When you call myobjectx.myfun(), Python implicitly passes myobjectx as the first argument to myfun(). However, since myfun is defined without a self parameter, it expects no arguments but is receiving one (myobjectx), resulting in a TypeError.\n",
    "\n",
    "By including self as the first parameter, you allow the method to access and manipulate the attributes and behavior of the instance to which it belongs.\n",
    "\n",
    "__Answereded by ChatGPT__\n",
    "\n",
    "[OPTIONAL] What does 'class' and 'instance variables' in python correspond to in C++? Maybe you can figure it out, I did not really get it reading, say this tutorial\n",
    "\n",
    "> https://www.digitalocean.com/community/tutorials/understanding-class-and-instance-variables-in-python-3"
   ]
  },
  {
   "cell_type": "code",
   "execution_count": 5,
   "metadata": {
    "ExecuteTime": {
     "end_time": "2023-09-14T11:52:10.240189Z",
     "start_time": "2023-09-14T11:52:10.238811Z"
    }
   },
   "outputs": [
    {
     "name": "stdout",
     "output_type": "stream",
     "text": [
      "Hello from myutils\n"
     ]
    }
   ],
   "source": [
    "class MyUtils: \n",
    "    @staticmethod\n",
    "    def helloworld(): \n",
    "        print(f\"Hello from myutils\")\n",
    "        \n",
    "myutils = MyUtils()\n",
    "\n",
    "myutils.helloworld()"
   ]
  },
  {
   "cell_type": "markdown",
   "metadata": {},
   "source": [
    "#### Qf Extend the class with a Constructor\n",
    "\n",
    "In Python you define the constructer by defining _ _init_ _ in class to initialize its attributes. It takes the parameter self and more if needed. Below it takes msg.\n",
    "\n",
    "Python doesn't have traditional destructors, because Python has Automatic Memory Management aka. garbage collection. You can implement custom cleanup behavior by defining a special method called _ _del_ _ in your classes. __However__, it's important to note that using _ _del_ _ for resource cleanup is not recommended in most cases, as it can be less predictable and reliable compared to other techniques like context managers or specific cleanup methods. \n"
   ]
  },
  {
   "cell_type": "code",
   "execution_count": 2,
   "metadata": {
    "ExecuteTime": {
     "end_time": "2023-09-14T11:52:10.245758Z",
     "start_time": "2023-09-14T11:52:10.241330Z"
    }
   },
   "outputs": [
    {
     "name": "stdout",
     "output_type": "stream",
     "text": [
      "MyUtils msg is: hello world\n"
     ]
    }
   ],
   "source": [
    "class MyUtils:\n",
    "    def __init__(self, msg):\n",
    "        self.mymsg = msg\n",
    "\n",
    "    def printMsg(self):\n",
    "        print(f\"MyUtils msg is: {self.mymsg}\")\n",
    "\n",
    "myutils = MyUtils(\"hello world\")\n",
    "myutils.printMsg()"
   ]
  },
  {
   "cell_type": "markdown",
   "metadata": {},
   "source": [
    "#### Qg Extend the class with a to-string function\n",
    "\n",
    "Here we show how to make a tostring() function i Python.\n"
   ]
  },
  {
   "cell_type": "code",
   "execution_count": 1,
   "metadata": {
    "ExecuteTime": {
     "end_time": "2023-09-14T11:52:10.245965Z",
     "start_time": "2023-09-14T11:52:10.243005Z"
    }
   },
   "outputs": [
    {
     "name": "stdout",
     "output_type": "stream",
     "text": [
      "Hello\n"
     ]
    }
   ],
   "source": [
    "class MyString:\n",
    "    def __init__(self, mystring):\n",
    "        self.mystring = mystring\n",
    "\n",
    "print(MyString(\"Hello\").mystring)"
   ]
  }
 ],
 "metadata": {
  "kernelspec": {
   "display_name": "Python 3 (ipykernel)",
   "language": "python",
   "name": "python3"
  },
  "language_info": {
   "codemirror_mode": {
    "name": "ipython",
    "version": 3
   },
   "file_extension": ".py",
   "mimetype": "text/x-python",
   "name": "python",
   "nbconvert_exporter": "python",
   "pygments_lexer": "ipython3",
   "version": "3.11.4"
  },
  "varInspector": {
   "cols": {
    "lenName": 16,
    "lenType": 16,
    "lenVar": 40
   },
   "kernels_config": {
    "python": {
     "delete_cmd_postfix": "",
     "delete_cmd_prefix": "del ",
     "library": "var_list.py",
     "varRefreshCmd": "print(var_dic_list())"
    },
    "r": {
     "delete_cmd_postfix": ") ",
     "delete_cmd_prefix": "rm(",
     "library": "var_list.r",
     "varRefreshCmd": "cat(var_dic_list()) "
    }
   },
   "position": {
    "height": "144.517px",
    "left": "666px",
    "right": "20px",
    "top": "425px",
    "width": "350px"
   },
   "types_to_exclude": [
    "module",
    "function",
    "builtin_function_or_method",
    "instance",
    "_Feature"
   ],
   "window_display": true
  }
 },
 "nbformat": 4,
 "nbformat_minor": 2
}
