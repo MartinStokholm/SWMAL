{
 "cells": [
  {
   "cell_type": "markdown",
   "metadata": {},
   "source": [
    "# SWMAL Exercise\n",
    "\n",
    "## Mathematical Foundation\n",
    "\n",
    "### Vector and matrix representation in python\n",
    "\n",
    "#### Qa Given the following $\\mathbf{x}^{(i)}$'s, construct and print the $\\mathbf X$ matrix in python.\n",
    "\n",
    "$$\n",
    "    \\ar{rl}{\n",
    "      \\bx\\pown{1} &= \\ac{c}{ 1, 2, 3}^T \\\\\n",
    "      \\bx\\pown{2} &= \\ac{c}{ 4, 2, 1}^T \\\\\n",
    "      \\bx\\pown{3} &= \\ac{c}{ 3, 8, 5}^T \\\\\n",
    "      \\bx\\pown{4} &= \\ac{c}{-9,-1, 0}^T\n",
    "    }\n",
    "$$\n",
    "\n",
    "We will in this chapter show how we would implement arrays using the numpy python module. "
   ]
  },
  {
   "cell_type": "code",
   "execution_count": 1,
   "metadata": {
    "ExecuteTime": {
     "end_time": "2023-09-28T12:58:18.529901Z",
     "start_time": "2023-09-28T12:58:18.435387Z"
    }
   },
   "outputs": [
    {
     "name": "stdout",
     "output_type": "stream",
     "text": [
      "[[ 1  2  3]\n",
      " [ 4  2  1]\n",
      " [ 3  8  5]\n",
      " [-9 -1  0]]\n"
     ]
    }
   ],
   "source": [
    "import numpy as np\n",
    "\n",
    "y = np.array([1,2,3,4]) # NOTE: you'll need this later\n",
    "\n",
    "x1 = [1, 2, 3]\n",
    "x2 = [4, 2, 1]\n",
    "x3 = [3, 8 ,5]\n",
    "x4 = [-9, -1, 0]\n",
    "\n",
    "# Creating nested array\n",
    "X = np.array([x1, x2, x3, x4])\n",
    "\n",
    "print(f\"{X}\")"
   ]
  },
  {
   "cell_type": "markdown",
   "metadata": {},
   "source": [
    "### Norms, metrics or distances\n",
    "\n",
    "#### Qb Implement the $\\norm{1}$ and $\\norm{2}$ norms for vectors in python.\n",
    "\n",
    "In this exercise we will show how to use the norms L1 and L2 for vectors using python, and it's `math` module. When we have written our L1 and L2 functions we are going to use the assert given in the assignment to validate the final outcome of the arrays. "
   ]
  },
  {
   "cell_type": "code",
   "execution_count": 2,
   "metadata": {
    "ExecuteTime": {
     "end_time": "2023-09-28T12:58:18.534324Z",
     "start_time": "2023-09-28T12:58:18.528950Z"
    }
   },
   "outputs": [
    {
     "name": "stdout",
     "output_type": "stream",
     "text": [
      "tx-ty=[-2  3 -1 -2], d1-expected_d1=0.0, d2-expected_d2=0.0\n",
      "OK(part-1)\n",
      "d2dot-expected_d2= 0.0\n",
      "OK(part-2)\n"
     ]
    }
   ],
   "source": [
    "import math\n",
    "\n",
    "def CheckArraySizeCoantainsElements(X):\n",
    "    assert X.shape[0]>=0 \n",
    "    if not X.ndim==1:\n",
    "        raise Exception(\"Array not bigger than 1 dimension\") \n",
    "\n",
    "def L2(X):\n",
    "    CheckArraySizeCoantainsElements(X)\n",
    "    s = 0\n",
    "    for i in range(X.size): \n",
    "        s = s + X[i] * X[i] \n",
    "    return s**(1/2)\n",
    "\n",
    "def L1(X):\n",
    "    CheckArraySizeCoantainsElements(X)\n",
    "    return sum((i**2)**0.5 for i in X) \n",
    "  \n",
    "# Using dot and sqrrrrt the real python way\n",
    "def L2Dot(X):\n",
    "    return np.sqrt(np.dot(X,X))\n",
    "\n",
    "    \n",
    "# TEST vectors: here I test your implementation...calling your L1() and L2() functions\n",
    "tx=np.array([1, 2, 3, -1])\n",
    "ty=np.array([3,-1, 4,  1])\n",
    "\n",
    "expected_d1=8.0\n",
    "expected_d2=4.242640687119285\n",
    "\n",
    "d1=L1(tx-ty)\n",
    "d2=L2(tx-ty)\n",
    "\n",
    "print(f\"tx-ty={tx-ty}, d1-expected_d1={d1-expected_d1}, d2-expected_d2={d2-expected_d2}\")\n",
    "\n",
    "eps=1E-9 \n",
    "# NOTE: remember to import 'math' for fabs for the next two lines..\n",
    "assert math.fabs(d1-expected_d1)<eps, \"L1 dist seems to be wrong\" \n",
    "assert math.fabs(d2-expected_d2)<eps, \"L2 dist seems to be wrong\" \n",
    "\n",
    "print(\"OK(part-1)\")\n",
    "\n",
    "# comment-in once your L2Dot fun is ready...\n",
    "d2dot=L2Dot(tx-ty)\n",
    "print(\"d2dot-expected_d2=\",d2dot-expected_d2)\n",
    "assert math.fabs(d2dot - expected_d2) < eps, \"L2Ddot dist seem to be wrong\" \n",
    "print(\"OK(part-2)\")"
   ]
  },
  {
   "cell_type": "markdown",
   "metadata": {},
   "source": [
    "## The cost function, $J$\n",
    "\n",
    "### Qc Construct the Root Mean Square Error (RMSE) function (Equation 2-1 [HOML]).\n",
    "\n",
    "In this exercise we will show how we implement the RMSE function by using the $\\bX$ matrix and $\\by$ from exercise Qa. We are going to use the dummy function H to use the first column as $\\bX$ predictions. \n",
    "\n",
    "$$\n",
    "    h\\st{dummy}(\\bX) = \\bX(:,0)\n",
    "$$"
   ]
  },
  {
   "cell_type": "code",
   "execution_count": 3,
   "metadata": {
    "ExecuteTime": {
     "end_time": "2023-09-28T12:58:18.539240Z",
     "start_time": "2023-09-28T12:58:18.536071Z"
    }
   },
   "outputs": [
    {
     "name": "stdout",
     "output_type": "stream",
     "text": [
      "RMSE=6.576473218982953, diff=2.6645352591003757e-15\n",
      "OK\n"
     ]
    }
   ],
   "source": [
    "from math import fabs\n",
    "\n",
    "# Define the root mean square error function using the L2 norm defined earlier\n",
    "def RMSE(y_pred, y_true):\n",
    "    # Check if y_pred and y_true have the same shape\n",
    "    if y_pred.shape != y_true.shape:\n",
    "        raise ValueError(\"Input arrays y_pred and y_true must have the same shape.\")\n",
    "    return L2(y_pred - y_true)/2\n",
    "\n",
    "# Dummy h function:\n",
    "def h(X):    \n",
    "    if X.ndim!=2:\n",
    "        raise ValueError(\"excpeted X to be of ndim=2, got ndim=\",X.ndim)\n",
    "    if X.shape[0]==0 or X.shape[1]==0:\n",
    "        raise ValueError(\"X got zero data along the 0/1 axis, cannot continue\")\n",
    "    return X[:,0]\n",
    "\n",
    "# Calls our RMSE() function:\n",
    "r=RMSE(h(X),y)\n",
    "\n",
    "# TEST vector:\n",
    "eps=1E-9\n",
    "expected=6.57647321898295\n",
    "print(f\"RMSE={r}, diff={r-expected}\")\n",
    "assert fabs(r-expected)<eps, \"your RMSE dist seems to be wrong\" \n",
    "\n",
    "print(\"OK\")"
   ]
  },
  {
   "cell_type": "markdown",
   "metadata": {},
   "source": [
    "### MAE\n",
    "\n",
    "#### Qd Similar construct the Mean Absolute Error (MAE) function (Equation 2-2 [HOML]) and evaluate it.\n",
    "\n",
    "Since we already created a RMSE function in a previous exercise. We are also going to create a function MAE to calculate the norm of L1 instead of L2 "
   ]
  },
  {
   "cell_type": "code",
   "execution_count": 4,
   "metadata": {
    "ExecuteTime": {
     "end_time": "2023-09-28T12:58:18.587082Z",
     "start_time": "2023-09-28T12:58:18.541276Z"
    }
   },
   "outputs": [
    {
     "name": "stdout",
     "output_type": "stream",
     "text": [
      "MAE=3.75, diff=0.0\n",
      "OK\n"
     ]
    }
   ],
   "source": [
    "# Define the mean absolute error function using the L1 norm defined earlier\n",
    "def MAE(y_pred, y_true):\n",
    "    # Check if y_pred and y_true have the same shape\n",
    "    if y_pred.shape != y_true.shape:\n",
    "        raise ValueError(\"Input arrays y_pred and y_true must have the same shape.\")\n",
    "    return L1(y_pred - y_true)/y_pred.size\n",
    "\n",
    "# Calls your MAE function:\n",
    "r=MAE(h(X), y)\n",
    "\n",
    "# TEST vector:\n",
    "expected=3.75\n",
    "print(f\"MAE={r}, diff={r-expected}\")\n",
    "assert fabs(r-expected)<eps, \"MAE dist seems to be wrong\" \n",
    "\n",
    "print(\"OK\")"
   ]
  },
  {
   "cell_type": "markdown",
   "metadata": {},
   "source": [
    "## Pythonic Code\n",
    "\n",
    "### Robustness of Code\n",
    "\n",
    "#### Qe Robust Code \n",
    "\n",
    "We have to add error checking code (asserts or exceptions), that checks for right $\\hat\\by$-$\\by$ sizes of the MSE and MAE functions."
   ]
  },
  {
   "cell_type": "markdown",
   "metadata": {},
   "source": [
    "### Qf Conclusion\n",
    "\n",
    "In conclusion, going through the exercises for the supervised data-flow model in Python has provided valuable insights into its implementation using matrices and vectors. We have computed the cost function, RMSE (Root Mean Square Error), and applied two different norms - L1 (Euclidean) and L2 (Box-City) - to evaluate the loss/cost of the model aka how bad it is compared to the true value. Low number is good, high number is bad.\n",
    "\n",
    "Through these exercises, we have learned that linear algebra is important in understanding and optimizing supervised learning algorithms. \n",
    "\n",
    "The fundamental concepts are essential for anyone working with machine learning and data science, as they form the basis for building robust and accurate predictive models. "
   ]
  }
 ],
 "metadata": {
  "kernelspec": {
   "display_name": "Python 3 (ipykernel)",
   "language": "python",
   "name": "python3"
  },
  "language_info": {
   "codemirror_mode": {
    "name": "ipython",
    "version": 3
   },
   "file_extension": ".py",
   "mimetype": "text/x-python",
   "name": "python",
   "nbconvert_exporter": "python",
   "pygments_lexer": "ipython3",
   "version": "3.11.4"
  },
  "varInspector": {
   "cols": {
    "lenName": 16,
    "lenType": 16,
    "lenVar": 40
   },
   "kernels_config": {
    "python": {
     "delete_cmd_postfix": "",
     "delete_cmd_prefix": "del ",
     "library": "var_list.py",
     "varRefreshCmd": "print(var_dic_list())"
    },
    "r": {
     "delete_cmd_postfix": ") ",
     "delete_cmd_prefix": "rm(",
     "library": "var_list.r",
     "varRefreshCmd": "cat(var_dic_list()) "
    }
   },
   "types_to_exclude": [
    "module",
    "function",
    "builtin_function_or_method",
    "instance",
    "_Feature"
   ],
   "window_display": true
  }
 },
 "nbformat": 4,
 "nbformat_minor": 2
}
