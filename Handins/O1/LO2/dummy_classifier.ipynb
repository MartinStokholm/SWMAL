{
 "cells": [
  {
   "cell_type": "markdown",
   "metadata": {},
   "source": [
    "# SWMAL Exercise\n",
    "\n",
    "## Implementing a dummy binary-classifier with fit-predict interface\n",
    "\n",
    "We begin with the MNIST data-set and will reuse the data loader from Scikit-learn. Next we create a dummy classifier, and compare the results of the SGD and dummy classifiers using the MNIST data\n",
    "\n",
    "#### Qa Load and display the MNIST data"
   ]
  },
  {
   "cell_type": "code",
   "execution_count": 5,
   "metadata": {
    "ExecuteTime": {
     "end_time": "2023-09-14T08:11:49.004593Z",
     "start_time": "2023-09-14T08:11:44.101807600Z"
    }
   },
   "outputs": [
    {
     "name": "stdout",
     "output_type": "stream",
     "text": [
      "Lenght of samples:  70000\n",
      "Label for digit:  4\n"
     ]
    },
    {
     "data": {
      "text/plain": "<Figure size 640x480 with 1 Axes>",
      "image/png": "[encoded data removed]"
     },
     "metadata": {},
     "output_type": "display_data"
    }
   ],
   "source": [
    "from sklearn.datasets import fetch_openml\n",
    "\n",
    "# Get data set \n",
    "def MNIST_GetDataSet():\n",
    "    X,y = fetch_openml('mnist_784', version=1, return_X_y=True, as_frame = False, parser = 'auto')\n",
    "    X = X / 255.\n",
    "    return X,y\n",
    "\n",
    "# Plot the digit\n",
    "%matplotlib inline\n",
    "def MNIST_PlotDigit(data):\n",
    "    import matplotlib\n",
    "    import matplotlib.pyplot as plt\n",
    "    image = data.reshape(28, 28)\n",
    "    plt.imshow(image, cmap = matplotlib.cm.binary, interpolation=\"nearest\")\n",
    "    plt.axis(\"off\")\n",
    "\n",
    "X,y = MNIST_GetDataSet()\n",
    "\n",
    "X = X / 255.\n",
    "\n",
    "print(\"Lenght of samples: \", len(X))\n",
    "print(\"Label for digit: \", y[9])\n",
    "\n",
    "digits_to_plot = X[9]\n",
    "\n",
    "MNIST_PlotDigit(digits_to_plot)"
   ]
  },
  {
   "cell_type": "markdown",
   "metadata": {},
   "source": [
    "#### Qb  Add a Stochastic Gradient Decent [SGD] Classifier\n",
    "\n",
    "Create a train-test data-set for MNIST and then add the `SGDClassifier` as done in [HOML], p.103.\n",
    "\n",
    "Then we split the data and run the fit-predict for the classifier using the MNIST data.\n",
    "\n",
    "Lastly we test our model using the test data, and plot the numbers that have been categorized correctly. \n",
    "Furthermore, we also find and plot some misclassified numbers."
   ]
  },
  {
   "cell_type": "code",
   "execution_count": 7,
   "metadata": {
    "ExecuteTime": {
     "end_time": "2023-09-14T08:12:41.451179300Z",
     "start_time": "2023-09-14T08:12:38.951403900Z"
    }
   },
   "outputs": [
    {
     "name": "stdout",
     "output_type": "stream",
     "text": [
      "X.shape=(70000, 784)\n",
      "X.shape=(70000, 784)\n",
      "Predicted Label: False\n"
     ]
    },
    {
     "data": {
      "text/plain": "<Figure size 640x480 with 1 Axes>",
      "image/png": "[encoded data removed]"
     },
     "metadata": {},
     "output_type": "display_data"
    },
    {
     "name": "stdout",
     "output_type": "stream",
     "text": [
      "Predicted Label: False\n"
     ]
    },
    {
     "data": {
      "text/plain": "<Figure size 640x480 with 1 Axes>",
      "image/png": "[encoded data removed]"
     },
     "metadata": {},
     "output_type": "display_data"
    },
    {
     "name": "stdout",
     "output_type": "stream",
     "text": [
      "Predicted Label: False\n"
     ]
    },
    {
     "data": {
      "text/plain": "<Figure size 640x480 with 1 Axes>",
      "image/png": "[encoded data removed]"
     },
     "metadata": {},
     "output_type": "display_data"
    }
   ],
   "source": [
    "from matplotlib import pyplot as plt\n",
    "from sklearn.model_selection import train_test_split\n",
    "from sklearn.linear_model import SGDClassifier\n",
    "import numpy as np\n",
    "\n",
    "# X is reshaped to an 2D array if not already\n",
    "def reshape_X(X):\n",
    "    if X.ndim==3:\n",
    "        X = X.reshape((X.shape[0],X.shape[1]*X.shape[2]))\n",
    "    return X\n",
    "\n",
    "print(f\"X.shape={X.shape}\") # print X.shape= (70000, 28, 28)\n",
    "X = reshape_X(X)\n",
    "print(f\"X.shape={X.shape}\") # X.shape= (70000, 784)\n",
    "\n",
    "# Split data into train and test\n",
    "X_train, X_test, y_train, y_test = train_test_split(X, y, test_size=0.2)\n",
    "\n",
    "# Create binary classifier for the target y_train_5 with 5 as the true digit\n",
    "y_train_5 = (y_train == '5')\n",
    "y_test_5  = (y_test == '5')\n",
    "\n",
    "# Create SGD classifier\n",
    "sgd_clf = SGDClassifier(random_state=42)\n",
    "\n",
    "# Train using training data\n",
    "sgd_clf.fit(X_train, y_train_5)\n",
    "\n",
    "# Predict using test data\n",
    "y_pred = sgd_clf.predict(X_test)\n",
    "\n",
    "# Plot numbers that have been categorized correctly\n",
    "correct = np.where(y_pred == y_test_5)[0]\n",
    "\n",
    "for number in correct[:3]:\n",
    "    MNIST_PlotDigit(X_test[number])\n",
    "    # Predict if the digit is a 5 or not\n",
    "    prediction = sgd_clf.predict([X_test[number]])  # Provide the data sample\n",
    "    print(f\"Predicted Label: {prediction[0]}\")\n",
    "    plt.show()\n",
    "    "
   ]
  },
  {
   "cell_type": "code",
   "execution_count": 9,
   "outputs": [
    {
     "name": "stdout",
     "output_type": "stream",
     "text": [
      "Predicted Label: False\n"
     ]
    },
    {
     "data": {
      "text/plain": "<Figure size 640x480 with 1 Axes>",
      "image/png": "[encoded data removed]"
     },
     "metadata": {},
     "output_type": "display_data"
    },
    {
     "name": "stdout",
     "output_type": "stream",
     "text": [
      "Predicted Label: False\n"
     ]
    },
    {
     "data": {
      "text/plain": "<Figure size 640x480 with 1 Axes>",
      "image/png": "[encoded data removed]"
     },
     "metadata": {},
     "output_type": "display_data"
    },
    {
     "name": "stdout",
     "output_type": "stream",
     "text": [
      "Predicted Label: False\n"
     ]
    },
    {
     "data": {
      "text/plain": "<Figure size 640x480 with 1 Axes>",
      "image/png": "[encoded data removed]"
     },
     "metadata": {},
     "output_type": "display_data"
    }
   ],
   "source": [
    "misclassified_number = np.where(y_pred != y_test_5)[0]\n",
    "classified_number = np.where(y_pred == y_test_5)[0]\n",
    "\n",
    "# Plot numbers that have been categorized correctly\n",
    "for number in misclassified_number[:3]:\n",
    "    MNIST_PlotDigit(X_test[number])\n",
    "    # Predict if the digit is a 5 or not\n",
    "    prediction = sgd_clf.predict([X_test[number]])  # Provide the data sample\n",
    "    print(f\"Predicted Label: {prediction[0]}\")\n",
    "    plt.show()"
   ],
   "metadata": {
    "collapsed": false,
    "ExecuteTime": {
     "end_time": "2023-09-14T08:14:22.351372Z",
     "start_time": "2023-09-14T08:14:22.181165400Z"
    }
   }
  },
  {
   "cell_type": "markdown",
   "metadata": {},
   "source": [
    "#### Qc Implement a dummy binary classifier\n",
    "\n",
    "Now we will try to create a Scikit-learn compatible estimator implemented via a python class. \n",
    "We then call the fit-predict on a newly instantiated `DummyClassifier` object, \n",
    "and find a way to extract the accuracy `score` from the test data. \n",
    "\n",
    "Finally, we compare the accuracy score from our `DummyClassifier` \n",
    "with the scores found in [HOML] \"Measuring Accuracy Using Cross-Validation\", p.107."
   ]
  },
  {
   "cell_type": "code",
   "execution_count": 14,
   "metadata": {
    "ExecuteTime": {
     "end_time": "2023-09-14T08:21:51.079398300Z",
     "start_time": "2023-09-14T08:21:51.059211600Z"
    }
   },
   "outputs": [
    {
     "name": "stdout",
     "output_type": "stream",
     "text": [
      "Any digit is a 5: False\n",
      "Accuracy score: 0.9095535714285714\n"
     ]
    }
   ],
   "source": [
    "from sklearn.metrics import accuracy_score\n",
    "\n",
    "class DummyClassifier():\n",
    "    def __init__(self):\n",
    "        self.classes_ = None\n",
    "        self.dummy_class_ = None\n",
    "\n",
    "    def fit(self, X, y=None):\n",
    "        self.classes_ = np.unique(y)\n",
    "        self.dummy_class_ = np.argmax(np.bincount(y))\n",
    "        return self\n",
    "    \n",
    "    def predict(self, X):\n",
    "        return np.full(X.shape[0], fill_value=self.dummy_class_)\n",
    "    \n",
    "dummyClassifier = DummyClassifier()\n",
    "\n",
    "dummyClassifier.fit(X_train, y_train_5)\n",
    "y_pred = dummyClassifier.predict(X_train)\n",
    "\n",
    "print(f\"Any digit is a 5: {any(y_pred)}\")\n",
    "print(f\"Accuracy score: {accuracy_score(y_train_5, y_pred)}\")\n"
   ]
  },
  {
   "cell_type": "markdown",
   "metadata": {},
   "source": [
    "### Qd Conclusion"
   ]
  },
  {
   "cell_type": "markdown",
   "source": [
    "In the exercise, we employed the SGDClassifier to train our MNIST dataset. \n",
    "The results of the exercise reveal that our training and testing phases yielded both accurate and inaccurate \n",
    "predictions. \n",
    "Evaluating the classifier's performance presents a challenge. \n",
    "Notably, our DummyClassifier achieved a 90% accuracy score by simply classifying every digit as non-5, since the\n",
    "majority of digits in the dataset are indeed non-5 (constituting 90% of the data). \n",
    "However, this accuracy score fails to provide an accurate assessment of our model's fitness for the task at hand.\n",
    " \n",
    "Consequently, we can infer that relying solely on accuracy as a performance metric is not advisable, particularly\n",
    "when dealing with classifiers and datasets where certain classes are significantly more prevalent than others."
   ],
   "metadata": {
    "collapsed": false
   }
  },
  {
   "cell_type": "markdown",
   "metadata": {},
   "source": [
    "REVISIONS||\n",
    "---------||\n",
    "2018-12-19| CEF, initial.                  \n",
    "2018-02-06| CEF, updated and spell checked. \n",
    "2018-02-08| CEF, minor text update.\n",
    "2018-03-05| CEF, updated with SHN comments.\n",
    "2019-09-02| CEF, updated for ITMAL v2.\n",
    "2019-09-04| CEF, updated and added conclusion Q.\n",
    "2020-01-25| CEF, F20 ITMAL update.\n",
    "2020-02-04| CEF, updated page numbers to HOMLv2.\n",
    "2020-09-03| CEF, E20 ITMAL update, udpated figs paths.\n",
    "2020-09-06| CEF, added alt text.\n",
    "2020-09-18| CEF, added binary-classifier text to Qb to emphasise 5/non-5 classification.\n",
    "2021-01-12| CEF, F21 ITMAL update, moved revision tabel.\n",
    "2021-08-02| CEF, update to E21 ITMAL.\n",
    "2022-01-25| CEF, update to F22 SWMAL.\n",
    "2023-02-07| CEF, update HOML page numbers.\n"
   ]
  }
 ],
 "metadata": {
  "kernelspec": {
   "display_name": "Python 3 (ipykernel)",
   "language": "python",
   "name": "python3"
  },
  "language_info": {
   "codemirror_mode": {
    "name": "ipython",
    "version": 3
   },
   "file_extension": ".py",
   "mimetype": "text/x-python",
   "name": "python",
   "nbconvert_exporter": "python",
   "pygments_lexer": "ipython3",
   "version": "3.11.4"
  },
  "varInspector": {
   "cols": {
    "lenName": 16,
    "lenType": 16,
    "lenVar": 40
   },
   "kernels_config": {
    "python": {
     "delete_cmd_postfix": "",
     "delete_cmd_prefix": "del ",
     "library": "var_list.py",
     "varRefreshCmd": "print(var_dic_list())"
    },
    "r": {
     "delete_cmd_postfix": ") ",
     "delete_cmd_prefix": "rm(",
     "library": "var_list.r",
     "varRefreshCmd": "cat(var_dic_list()) "
    }
   },
   "position": {
    "height": "144.517px",
    "left": "1230px",
    "right": "20px",
    "top": "119px",
    "width": "350px"
   },
   "types_to_exclude": [
    "module",
    "function",
    "builtin_function_or_method",
    "instance",
    "_Feature"
   ],
   "window_display": true
  }
 },
 "nbformat": 4,
 "nbformat_minor": 2
}
