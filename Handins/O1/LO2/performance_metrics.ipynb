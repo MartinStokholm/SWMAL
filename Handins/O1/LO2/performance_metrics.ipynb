{
 "cells": [
  {
   "cell_type": "markdown",
   "metadata": {},
   "source": [
    "# SWMAL Exercise\n",
    "\n",
    "\n",
    "## Performance Metrics\n",
    "\n",
    "There are a number of frequently uses metrics in ML, namely accuracy, precision, recall and the $F_1$ score. All are called _metrics_ (though they are not true norms, like ${\\cal L}_2$ or ${\\cal L}_1$ we saw last time).\n",
    "\n",
    "Maybe performance _score_ would be a better name than performance metric, at least for the accuracy, precision, recall we will be looking at---emphasising the conceptual distinction between the  _score-function_ and _cost(/loss/error/objective)-function_ (the later is typically a true distance/norm function).  \n",
    "\n",
    "### Nomenclature\n",
    "\n",
    "| NAME | SYMBOL | ALIAS |\n",
    "| :---: | :---: | :---: |\n",
    "|true positives | $TP$ | |\n",
    "|true negatives | $TN$ | |\n",
    "|false positives| $FP$ | type I error| \n",
    "|false negatives| $FN$ | type II error |\n",
    "\n",
    "and $N = N_P + N_N$ being the total number of samples and the number of positive and negative samples\n",
    "respectively.\n",
    "\n",
    "### Precision\n",
    "\n",
    "$$\n",
    "\\def\\by{\\mathbf{y}}\n",
    "\\def\\ba{\\begin{array}{lll}}\n",
    "\\def\\ea{\\end{array}}\n",
    "\\newcommand{\\rem}[1]{}\n",
    "\\newcommand\\st[1]{_{\\scriptsize #1}}\n",
    "\\newcommand\\myfrac[2]{\\frac{#1\\rule{0pt}{8pt}}{#2\\rule{0pt}{8pt}}} \n",
    "\\ba\n",
    " p &= \\myfrac{TP}{TP + FP}\n",
    "\\ea\n",
    "$$\n",
    "\n",
    "### Recall or Sensitivity\n",
    "\n",
    "$$\n",
    "  \\ba\n",
    "    r &= \\myfrac{TP}{TP + FN}\\\\\n",
    "      &= \\myfrac{TP}{N_P}\n",
    "  \\ea\n",
    "$$\n",
    "\n",
    "### Accuracy\n",
    "\n",
    "$$\n",
    "  \\ba\n",
    "      a &= \\myfrac{TP + TN}{TP + TN + FP + FN}\\\\\n",
    "        &= \\myfrac{TP + TN}{N}\\\\\n",
    "        &= \\myfrac{TP + TN}{N_P~~ + N_N} \n",
    "  \\ea\n",
    "$$\n",
    "\n",
    "#### Accuracy Paradox\n",
    "\n",
    "A static constant model, say $p\\st{cancer}=0$ may have higher accuracy than a real model with predictive power. This is odd!\n",
    "\n",
    "Asymmetric weights could also be associated with the false positive and false negative predictions, yielding either FP of FN much more expensive than the other. Say, it is more expensive not to treat a person with cancer, than treating a person without cancer. \n",
    "\n",
    "### F-score\n",
    "\n",
    "General $\\beta$-harmonic mean of the precision and recall \n",
    "$$\n",
    "    F_\\beta = (1+\\beta^2) \\myfrac{pr}{\\beta^2 p+r}\\\\\n",
    "$$ \n",
    "that for say $\\beta=2$ or $\\beta=0.5$ shifts or skews the emphasis on the two variables in the equation. Normally only the $\\beta=1$ harmonic mean is used\n",
    "\n",
    "$$\n",
    "  \\ba\n",
    "    F_1 &= \\myfrac{2pr}{p+r}\\\\\n",
    "        &= \\myfrac{2}{1/p + 1/r}\n",
    "  \\ea\n",
    "$$\n",
    "with $F$ typically being synonymous with $F_1$. \n",
    "\n",
    "\n",
    "## Confusion Matrix\n",
    "\n",
    "For statistical classification, the confusion matrix or error matrix (or\n",
    "matching matrix in unsupervised learning) is for a two-class problem given by\n",
    "the $2\\times2$ matrix with dimensions 'actual' and 'predicted'\n",
    "\n",
    "$$   \n",
    "{\\bf M}\\st{confusion} = \n",
    "\\begin{array}{l|ll}\n",
    "                           & \\mbox{actual true} & \\mbox{actual false} \\\\ \\hline\n",
    "    \\mbox{predicted true}  & TP & FP \\\\     \n",
    "    \\mbox{predicted false} & FN & TN \n",
    "\\end{array}\n",
    "$$\n",
    "\n",
    "The diagonal, in the square matrix, represent predicted values being the same\n",
    "as the actual values, off-diagonal elements represent erroneous prediction.\n",
    "\n",
    "Also notice, that the layout of this matrix is different of what is given in [HOML], \"Confusion Matrix\", p.110/fig 3-3. This is just a minor issue, since we can always flip/rotate/transpose the matrix (say by flipping the $\\by\\st{true}$ and $\\by\\st{pred}$ arguments). \n",
    "\n",
    "For N-class classification the matrix gives a matrix with $N$ actual\n",
    "classes and $N$ predicted classes\n",
    "\n",
    "$$\n",
    "{\\bf M}\\st{confusion}~~~ =\n",
    "  \\left[\n",
    "  \\begin{array}{llll}\n",
    "       c_{11} & c_{12} & \\cdots & c_{1n} \\\\ \n",
    "       c_{21} & c_{22} & \\cdots & c_{2n} \\\\\n",
    "       \\vdots & \\vdots & \\ddots & \\vdots \\\\\n",
    "       c_{n1} & c_{n2} & \\cdots & c_{nn} \\\\ \n",
    "  \\end{array}\n",
    "  \\right]\n",
    "$$\n",
    "with say element $c_{21}$ being the number of actual classes '1' being predicted (erroneously) as class '2'.\n",
    "\n",
    "### Nomenclature for the Confusion Matrix\n",
    "\n",
    "The naming of the elements in the confusion matrix can be rather exotic, like _false omission rate_ (see the figure below), but we won't get to such detail here...let us stick with TP, TN, FP, FN and $F_1$!\n",
    "\n",
    "<img src=\"https://itundervisning.ase.au.dk/SWMAL/L02/Figs/performance_metrics.jpg\" alt=\"WARNING: could not get image from server\" style=\"width:900px\">\n",
    "\n",
    "#### Qa Implement the Accuracy function and test it on the MNIST data.\n",
    "\n",
    "We now follow the convention in Scikit-learn, that a score funtion takes the arguments `y_true` and then `y_pred`\n",
    "\n",
    "```\n",
    "    sklearn.metrics.accuracy_score(y_true, y_pred, ..)\n",
    "```\n",
    "\n",
    "We implement a general accuracy function `MyAccuracy(y_true, y_pred)`. Again, we implement the function ourselfies from scratch, like we do not use any helper functions from Scikit-learn.\n",
    "\n",
    "We reuse our MNIST data loader and test the `MyAccuracy` function both on our dummy classifier and on the Stochastic Gradient Descent classifier.\n",
    "\n",
    "We compare our accuracy score with the acutal value from `sklearn.metrics.accuracy_score()`."
   ]
  },
  {
   "cell_type": "code",
   "execution_count": 3,
   "metadata": {
    "ExecuteTime": {
     "end_time": "2023-09-14T11:33:40.982426500Z",
     "start_time": "2023-09-14T11:33:33.962515800Z"
    }
   },
   "outputs": [],
   "source": [
    "import numpy as np\n",
    "from sklearn.linear_model import SGDClassifier\n",
    "from sklearn.model_selection import train_test_split\n",
    "\n",
    "from sklearn.datasets import fetch_openml\n",
    "\n",
    "# Get data set \n",
    "def MNIST_GetDataSet():\n",
    "    X,y = fetch_openml('mnist_784', version=1, return_X_y=True, as_frame = False, parser = 'auto')\n",
    "    X = X / 255.\n",
    "    return X,y\n",
    "\n",
    "X,y = MNIST_GetDataSet()\n",
    "X = X / 255.\n",
    "\n",
    "# Split data into train and test\n",
    "X_train, X_test, y_train, y_test = train_test_split(X, y, test_size=0.2)\n",
    "\n",
    "# Create binary classifier for the target y_train_5 with 5 as the true digit\n",
    "y_train_5 = (y_train == '5')\n",
    "y_test_5  = (y_test == '5')\n",
    "\n",
    "# Create SGD classifier\n",
    "sgd_clf = SGDClassifier(random_state=42)\n",
    "\n",
    "# Train using training data\n",
    "sgd_clf.fit(X_train, y_train_5)\n",
    "\n",
    "# Predict using test data\n",
    "y_pred = sgd_clf.predict(X_test)\n",
    "\n",
    "from sklearn.metrics import accuracy_score\n",
    "\n",
    "class DummyClassifier():\n",
    "    def __init__(self):\n",
    "        self.classes_ = None\n",
    "        self.dummy_class_ = None\n",
    "\n",
    "    def fit(self, X, y=None):\n",
    "        self.classes_ = np.unique(y)\n",
    "        self.dummy_class_ = np.argmax(np.bincount(y))\n",
    "        return self\n",
    "    \n",
    "    def predict(self, X):\n",
    "        return np.full(X.shape[0], fill_value=self.dummy_class_)\n",
    "    \n",
    "dummyClassifier = DummyClassifier()\n",
    "dummyClassifier.fit(X_train, y_train_5)\n",
    "y_pred_dummy = dummyClassifier.predict(X_train)\n"
   ]
  },
  {
   "cell_type": "code",
   "execution_count": 6,
   "metadata": {
    "ExecuteTime": {
     "end_time": "2023-09-14T11:34:31.773445900Z",
     "start_time": "2023-09-14T11:34:31.659627200Z"
    }
   },
   "outputs": [
    {
     "name": "stdout",
     "output_type": "stream",
     "text": [
      "\n",
      "TestAccuracy() simple example:\n",
      "\n",
      "my a          =0.75\n",
      "scikit-learn a=0.75\n",
      "\n",
      "TestAccuracy() on sdg:\n",
      "\n",
      "my a          =0.9117142857142857\n",
      "scikit-learn a=0.9117142857142857\n",
      "\n",
      "TestAccuracy() on dummy:\n",
      "\n",
      "my a          =0.9093392857142857\n",
      "scikit-learn a=0.9093392857142857\n"
     ]
    }
   ],
   "source": [
    "from sklearn.metrics import accuracy_score\n",
    "\n",
    "def MyAccuracy(y_true, y_pred):\n",
    "    if len(y_true) == 0 or len(y_pred) == 0:\n",
    "        return 0\n",
    "    y_pred_correct=[]\n",
    "    for i in range(len(y_true)):\n",
    "        if y_true[i] == y_pred[i]:\n",
    "            y_pred_correct.append(y_pred[i])\n",
    "    return len(y_pred_correct)/len(y_true)\n",
    "    \n",
    "# TEST FUNCTION: example of a comperator, using Scikit-learn accuracy_score\n",
    "def TestAccuracy(y_true, y_pred):\n",
    "    a0=MyAccuracy(y_true, y_pred)\n",
    "    a1=accuracy_score(y_true, y_pred)\n",
    "\n",
    "    print(f\"\\nmy a          ={a0}\")\n",
    "    print(f\"scikit-learn a={a1}\")\n",
    "\n",
    "print(\"\\nTestAccuracy() simple example:\")\n",
    "TestAccuracy([1,2,3,4], [1,2,3,3])\n",
    "\n",
    "print(\"\\nTestAccuracy() on sdg:\")\n",
    "TestAccuracy(y_test_5, y_pred)\n",
    "print(\"\\nTestAccuracy() on dummy:\")\n",
    "TestAccuracy(y_train_5, y_pred_dummy)\n"
   ]
  },
  {
   "cell_type": "markdown",
   "metadata": {},
   "source": [
    "#### Qb Implement Precision, Recall and $F_1$-score and test it on the MNIST data for both the SGD and Dummy classifier models\n",
    "\n",
    "Next we implement the `MyPrecision`, `MyRecall` and `MyF1Score` functions, were we are using MNIST as input, with the SGD and the Dummy classifiers and make some test vectors to compare to the functions found in Scikit-learn."
   ]
  },
  {
   "cell_type": "code",
   "execution_count": 8,
   "metadata": {
    "ExecuteTime": {
     "end_time": "2023-09-15T09:21:43.875698900Z",
     "start_time": "2023-09-15T09:21:42.780410200Z"
    }
   },
   "outputs": [
    {
     "name": "stdout",
     "output_type": "stream",
     "text": [
      "\n",
      "MyPrecision_Test() simple example:\n",
      "\n",
      "precision = 0.6666666666666666\n",
      "precision_scikit = 0.6666666666666666\n",
      "\n",
      "MyPrecision_Test() on y_pred:\n",
      "\n",
      "precision = 0\n",
      "precision_scikit = 0.0\n",
      "\n",
      "MyPrecision_Test() on y_pred_dummy:\n",
      "\n",
      "precision = 0\n",
      "precision_scikit = 0.0\n",
      "\n",
      "MyRecall_Test() usage example:\n",
      "\n",
      "recall = 0.75\n",
      "recall_scikit = 0.75\n",
      "\n",
      "MyRecall_Test() on y_pred:\n",
      "\n",
      "recall = 0.0\n",
      "recall_scikit = 0.0\n",
      "\n",
      "MyRecall_Test() on y_pred_dummy:\n",
      "\n",
      "recall = 0.0\n",
      "recall_scikit = 0.0\n",
      "\n",
      "F1Score_Test() simple example:\n",
      "\n",
      "f1Score = 0.4\n",
      "f1Score_scikit=0.4\n",
      "\n",
      "F1Score_Test() on y_pred:\n",
      "\n",
      "f1Score = 0\n",
      "f1Score_scikit=0.0\n",
      "\n",
      "F1Score_Test() on y_pred_dummy:\n",
      "\n",
      "f1Score = 0\n",
      "f1Score_scikit=0.0\n"
     ]
    }
   ],
   "source": [
    "import sklearn.metrics as metrics\n",
    "\n",
    "def MyPrecision(y_true, y_pred):\n",
    "    pcp = [item for item in y_pred if item == True]\n",
    "    if len(pcp)==0:\n",
    "        return 0\n",
    "    y_predCorrect=[]\n",
    "    for i in range(len(y_true)):\n",
    "        if y_true[i]==True and y_pred[i]==True:\n",
    "            y_predCorrect.append(y_pred[i])\n",
    "    return len(y_predCorrect)/len(pcp)\n",
    "\n",
    "def MyPrecision_Test(y_true, y_pred):\n",
    "    if len(y_true) != len(y_pred):\n",
    "      print(\"Error: Input arrays have different lengths.\")\n",
    "      return\n",
    "    precision=MyPrecision(y_true, y_pred)\n",
    "    precision_scikit=metrics.precision_score(y_true, y_pred, zero_division = 0.0)\n",
    "\n",
    "    print(f\"\\nprecision = {precision}\")\n",
    "    print(f\"precision_scikit = {precision_scikit}\")\n",
    "\n",
    "print(\"\\nMyPrecision_Test() simple example:\")\n",
    "MyPrecision_Test([True,True,False,True], [True,True,True,False])\n",
    "print(\"\\nMyPrecision_Test() on y_pred:\")\n",
    "MyPrecision_Test(y_test_5, y_pred)\n",
    "print(\"\\nMyPrecision_Test() on y_pred_dummy:\")\n",
    "MyPrecision_Test(y_train_5, y_pred_dummy)\n",
    "\n",
    "def MyRecall(y_true, y_pred):\n",
    "     #condition positive\n",
    "    cp = [item for item in y_true if item == True]\n",
    "    y_predCorrect=[]\n",
    "    for i in range(len(y_true)):\n",
    "        if y_true[i]==True and y_pred[i]==True:\n",
    "            y_predCorrect.append(y_pred[i])\n",
    "    return len(y_predCorrect)/len(cp)\n",
    "\n",
    "def MyRecall_Test(y_true, y_pred):\n",
    "    if len(y_true) != len(y_pred):\n",
    "      print(\"Error: Input arrays have different lengths.\")\n",
    "      return\n",
    "    recall=MyRecall(y_true, y_pred)\n",
    "    recall_scikit=metrics.recall_score(y_true, y_pred)\n",
    "\n",
    "    print(f\"\\nrecall = {recall}\")\n",
    "    print(f\"recall_scikit = {recall_scikit}\")\n",
    "\n",
    "print(\"\\nMyRecall_Test() usage example:\")\n",
    "MyRecall_Test([True,True,True,True], [True,True,True,False])\n",
    "print(\"\\nMyRecall_Test() on y_pred:\")\n",
    "MyRecall_Test(y_test_5, y_pred)\n",
    "print(\"\\nMyRecall_Test() on y_pred_dummy:\")\n",
    "MyRecall_Test(y_train_5, y_pred_dummy)\n",
    "\n",
    "def MyF1Score(y_true, y_pred):\n",
    "    p = MyPrecision(y_true, y_pred)\n",
    "    r = MyRecall(y_true, y_pred)\n",
    "    if p==0 or r==0:\n",
    "        return 0\n",
    "    return 2/((1/p)+(1/r))\n",
    "\n",
    "def F1Score_Test(y_true, y_pred):\n",
    "    if len(y_true) != len(y_pred):\n",
    "      print(\"Error: Input arrays have different lengths.\")\n",
    "      return\n",
    "    f1Score=MyF1Score(y_true, y_pred)\n",
    "    f1Score_scikit=metrics.f1_score(y_true, y_pred)\n",
    "\n",
    "    print(f\"\\nf1Score = {f1Score}\")\n",
    "    print(f\"f1Score_scikit={f1Score_scikit}\")\n",
    "\n",
    "print(\"\\nF1Score_Test() simple example:\")\n",
    "F1Score_Test([True,True,False,True], [True,False,True,False])\n",
    "print(\"\\nF1Score_Test() on y_pred:\")\n",
    "F1Score_Test(y_test_5, y_pred)\n",
    "print(\"\\nF1Score_Test() on y_pred_dummy:\")\n",
    "F1Score_Test(y_train_5, y_pred_dummy)"
   ]
  },
  {
   "cell_type": "markdown",
   "metadata": {},
   "source": [
    "#### Qc The Confusion Matrix\n",
    "\n",
    "Then we take a look back at ouryour solution to Qb in the `dummy_classifier.ipynb`. \n",
    "We generate the confusion matrices for both the Dummy and the SGD classifier using the `scklearn.metrics.confusion_matrix` function. "
   ]
  },
  {
   "cell_type": "code",
   "execution_count": 10,
   "metadata": {
    "ExecuteTime": {
     "end_time": "2023-09-14T14:40:56.422481400Z",
     "start_time": "2023-09-14T14:40:56.401498100Z"
    }
   },
   "outputs": [
    {
     "name": "stdout",
     "output_type": "stream",
     "text": [
      "sdg: \n",
      "[[12764     0]\n",
      " [ 1236     0]]\n",
      "\n",
      "dummy: \n",
      "[[50923     0]\n",
      " [ 5077     0]]\n",
      "\n",
      "sdg reversed: \n",
      "[[12764  1236]\n",
      " [    0     0]]\n",
      "\n"
     ]
    }
   ],
   "source": [
    "from sklearn.metrics import confusion_matrix\n",
    "cm_sdg = confusion_matrix(y_test_5, y_pred)\n",
    "cm_sdg_reversed = confusion_matrix(y_pred, y_test_5)\n",
    "cm_dummy = confusion_matrix(y_train_5, y_pred_dummy)\n",
    "\n",
    "print(f\"sdg: \\n{cm_sdg}\\n\")\n",
    "print(f\"dummy: \\n{cm_dummy}\\n\")\n",
    "print(f\"sdg reversed: \\n{cm_sdg_reversed}\\n\")"
   ]
  },
  {
   "cell_type": "markdown",
   "metadata": {},
   "source": [
    "#### Qd A Confusion Matrix Heat-map\n",
    "\n",
    "Now its time to get lit, by generating a _heat map_ image for the confusion matrices, `M_dummy` and `M_SGD`. \n",
    "Inspiration taken from [HOML] \"Error Analysis\", pp.122-125.\n",
    "\n",
    "This heat map could be an important guide for us when analysing multiclass data in the future."
   ]
  },
  {
   "cell_type": "code",
   "execution_count": 13,
   "metadata": {
    "ExecuteTime": {
     "end_time": "2023-09-14T14:45:32.650502800Z",
     "start_time": "2023-09-14T14:45:32.338387200Z"
    }
   },
   "outputs": [
    {
     "data": {
      "image/png": "[encoded data removed]",
      "text/plain": [
       "<Figure size 640x480 with 2 Axes>"
      ]
     },
     "metadata": {},
     "output_type": "display_data"
    },
    {
     "data": {
      "image/png": "[encoded data removed]",
      "text/plain": [
       "<Figure size 640x480 with 2 Axes>"
      ]
     },
     "metadata": {},
     "output_type": "display_data"
    }
   ],
   "source": [
    "from matplotlib import pyplot as plt\n",
    "from sklearn.metrics import ConfusionMatrixDisplay\n",
    "\n",
    "plt.rc('font', size=10) \n",
    "ConfusionMatrixDisplay.from_predictions(y_train_5,y_pred_dummy) \n",
    "plt.show()\n",
    "\n",
    "ConfusionMatrixDisplay.from_predictions(y_test_5,y_pred)\n",
    "plt.show()"
   ]
  },
  {
   "cell_type": "markdown",
   "metadata": {},
   "source": [
    "### Qe Conclusion\n",
    "\n",
    "Now, conclude on all the exercise above. \n",
    "\n",
    "Write a short textual conclusion (max. 10- to 20-lines) that extract the _essence_ of the exercises: why did you think it was important to look at these particular ML concepts, and what was our overall learning outcome of the exercises (in broad terms)."
   ]
  },
  {
   "cell_type": "markdown",
   "metadata": {},
   "source": [
    "In this exercise, we did an evaluation of classification algorithms using custom Python metrics as well as the functions provided by scikit-learn.\n",
    "The primary objective of this exercise was to emphasize the significance of utilizing specific metrics when evaluating your algorithm, as the choice of metrics should align with the particular use case. For instance, in the context of identifying criminals, prioritizing high precision is crucial, while for disease detection, a high recall or sensitivity is more pertinent. Additionally, the F1-score proves useful when you need to strike a balance between true positives and true negatives, making it especially relevant, as seen in the \"is this a 5?\" algorithm. Consequently, the F1-score offers a more precise assessment of the utility of both the SGD algorithm and the Dummy classifier, with their respective accuracy rates of approximately 75% and 0%.\n",
    "\n",
    "Moreover, we employed confusion matrices and heatmaps to gain in-depth insights into the performance of these classifiers, providing a visually informative component to complement the quantitative metrics.\n"
   ]
  }
 ],
 "metadata": {
  "kernelspec": {
   "display_name": "Python 3 (ipykernel)",
   "language": "python",
   "name": "python3"
  },
  "language_info": {
   "codemirror_mode": {
    "name": "ipython",
    "version": 3
   },
   "file_extension": ".py",
   "mimetype": "text/x-python",
   "name": "python",
   "nbconvert_exporter": "python",
   "pygments_lexer": "ipython3",
   "version": "3.11.4"
  },
  "varInspector": {
   "cols": {
    "lenName": 16,
    "lenType": 16,
    "lenVar": 40
   },
   "kernels_config": {
    "python": {
     "delete_cmd_postfix": "",
     "delete_cmd_prefix": "del ",
     "library": "var_list.py",
     "varRefreshCmd": "print(var_dic_list())"
    },
    "r": {
     "delete_cmd_postfix": ") ",
     "delete_cmd_prefix": "rm(",
     "library": "var_list.r",
     "varRefreshCmd": "cat(var_dic_list()) "
    }
   },
   "types_to_exclude": [
    "module",
    "function",
    "builtin_function_or_method",
    "instance",
    "_Feature"
   ],
   "window_display": true
  }
 },
 "nbformat": 4,
 "nbformat_minor": 2
}
