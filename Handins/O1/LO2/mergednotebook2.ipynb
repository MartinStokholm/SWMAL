{
 "cells": [
  {
   "cell_type": "markdown",
   "metadata": {},
   "source": [
    "# SWMAL Exercise\n",
    "\n",
    "## Mathematical Foundation\n",
    "\n",
    "### Vector and matrix representation in python\n",
    "\n",
    "#### Qa Given the following $\\mathbf{x}^{(i)}$'s, construct and print the $\\mathbf X$ matrix in python.\n",
    "\n",
    "$$\n",
    "    \\ar{rl}{\n",
    "      \\bx\\pown{1} &= \\ac{c}{ 1, 2, 3}^T \\\\\n",
    "      \\bx\\pown{2} &= \\ac{c}{ 4, 2, 1}^T \\\\\n",
    "      \\bx\\pown{3} &= \\ac{c}{ 3, 8, 5}^T \\\\\n",
    "      \\bx\\pown{4} &= \\ac{c}{-9,-1, 0}^T\n",
    "    }\n",
    "$$\n",
    "\n",
    "We will in this chapter show how we would implement arrays using the numpy python module. "
   ]
  },
  {
   "cell_type": "code",
   "execution_count": 1,
   "metadata": {
    "ExecuteTime": {
     "end_time": "2023-09-28T12:58:18.529901Z",
     "start_time": "2023-09-28T12:58:18.435387Z"
    }
   },
   "outputs": [
    {
     "name": "stdout",
     "output_type": "stream",
     "text": [
      "[[ 1  2  3]\n",
      " [ 4  2  1]\n",
      " [ 3  8  5]\n",
      " [-9 -1  0]]\n"
     ]
    }
   ],
   "source": [
    "import numpy as np\n",
    "\n",
    "y = np.array([1,2,3,4]) # NOTE: you'll need this later\n",
    "\n",
    "x1 = [1, 2, 3]\n",
    "x2 = [4, 2, 1]\n",
    "x3 = [3, 8 ,5]\n",
    "x4 = [-9, -1, 0]\n",
    "\n",
    "# Creating nested array\n",
    "X = np.array([x1, x2, x3, x4])\n",
    "\n",
    "print(f\"{X}\")"
   ]
  },
  {
   "cell_type": "markdown",
   "metadata": {},
   "source": [
    "### Norms, metrics or distances\n",
    "\n",
    "#### Qb Implement the $\\norm{1}$ and $\\norm{2}$ norms for vectors in python.\n",
    "\n",
    "In this exercise we will show how to use the norms L1 and L2 for vectors using python, and it's `math` module. When we have written our L1 and L2 functions we are going to use the assert given in the assignment to validate the final outcome of the arrays. "
   ]
  },
  {
   "cell_type": "code",
   "execution_count": 2,
   "metadata": {
    "ExecuteTime": {
     "end_time": "2023-09-28T12:58:18.534324Z",
     "start_time": "2023-09-28T12:58:18.528950Z"
    }
   },
   "outputs": [
    {
     "name": "stdout",
     "output_type": "stream",
     "text": [
      "tx-ty=[-2  3 -1 -2], d1-expected_d1=0.0, d2-expected_d2=0.0\n",
      "OK(part-1)\n",
      "d2dot-expected_d2= 0.0\n",
      "OK(part-2)\n"
     ]
    }
   ],
   "source": [
    "import math\n",
    "\n",
    "def CheckArraySizeCoantainsElements(X):\n",
    "    assert X.shape[0]>=0 \n",
    "    if not X.ndim==1:\n",
    "        raise Exception(\"Array not bigger than 1 dimension\") \n",
    "\n",
    "def L2(X):\n",
    "    CheckArraySizeCoantainsElements(X)\n",
    "    s = 0\n",
    "    for i in range(X.size): \n",
    "        s = s + X[i] * X[i] \n",
    "    return s**(1/2)\n",
    "\n",
    "def L1(X):\n",
    "    CheckArraySizeCoantainsElements(X)\n",
    "    return sum((i**2)**0.5 for i in X) \n",
    "  \n",
    "# Using dot and sqrrrrt the real python way\n",
    "def L2Dot(X):\n",
    "    return np.sqrt(np.dot(X,X))\n",
    "\n",
    "    \n",
    "# TEST vectors: here I test your implementation...calling your L1() and L2() functions\n",
    "tx=np.array([1, 2, 3, -1])\n",
    "ty=np.array([3,-1, 4,  1])\n",
    "\n",
    "expected_d1=8.0\n",
    "expected_d2=4.242640687119285\n",
    "\n",
    "d1=L1(tx-ty)\n",
    "d2=L2(tx-ty)\n",
    "\n",
    "print(f\"tx-ty={tx-ty}, d1-expected_d1={d1-expected_d1}, d2-expected_d2={d2-expected_d2}\")\n",
    "\n",
    "eps=1E-9 \n",
    "# NOTE: remember to import 'math' for fabs for the next two lines..\n",
    "assert math.fabs(d1-expected_d1)<eps, \"L1 dist seems to be wrong\" \n",
    "assert math.fabs(d2-expected_d2)<eps, \"L2 dist seems to be wrong\" \n",
    "\n",
    "print(\"OK(part-1)\")\n",
    "\n",
    "# comment-in once your L2Dot fun is ready...\n",
    "d2dot=L2Dot(tx-ty)\n",
    "print(\"d2dot-expected_d2=\",d2dot-expected_d2)\n",
    "assert math.fabs(d2dot - expected_d2) < eps, \"L2Ddot dist seem to be wrong\" \n",
    "print(\"OK(part-2)\")"
   ]
  },
  {
   "cell_type": "markdown",
   "metadata": {},
   "source": [
    "## The cost function, $J$\n",
    "\n",
    "### Qc Construct the Root Mean Square Error (RMSE) function (Equation 2-1 [HOML]).\n",
    "\n",
    "In this exercise we will show how we implement the RMSE function by using the $\\bX$ matrix and $\\by$ from exercise Qa. We are going to use the dummy function H to use the first column as $\\bX$ predictions. \n",
    "\n",
    "$$\n",
    "    h\\st{dummy}(\\bX) = \\bX(:,0)\n",
    "$$"
   ]
  },
  {
   "cell_type": "code",
   "execution_count": 3,
   "metadata": {
    "ExecuteTime": {
     "end_time": "2023-09-28T12:58:18.539240Z",
     "start_time": "2023-09-28T12:58:18.536071Z"
    }
   },
   "outputs": [
    {
     "name": "stdout",
     "output_type": "stream",
     "text": [
      "RMSE=6.576473218982953, diff=2.6645352591003757e-15\n",
      "OK\n"
     ]
    }
   ],
   "source": [
    "from math import fabs\n",
    "\n",
    "# Define the root mean square error function using the L2 norm defined earlier\n",
    "def RMSE(y_pred, y_true):\n",
    "    # Check if y_pred and y_true have the same shape\n",
    "    if y_pred.shape != y_true.shape:\n",
    "        raise ValueError(\"Input arrays y_pred and y_true must have the same shape.\")\n",
    "    return L2(y_pred - y_true)/2\n",
    "\n",
    "# Dummy h function:\n",
    "def h(X):    \n",
    "    if X.ndim!=2:\n",
    "        raise ValueError(\"excpeted X to be of ndim=2, got ndim=\",X.ndim)\n",
    "    if X.shape[0]==0 or X.shape[1]==0:\n",
    "        raise ValueError(\"X got zero data along the 0/1 axis, cannot continue\")\n",
    "    return X[:,0]\n",
    "\n",
    "# Calls our RMSE() function:\n",
    "r=RMSE(h(X),y)\n",
    "\n",
    "# TEST vector:\n",
    "eps=1E-9\n",
    "expected=6.57647321898295\n",
    "print(f\"RMSE={r}, diff={r-expected}\")\n",
    "assert fabs(r-expected)<eps, \"your RMSE dist seems to be wrong\" \n",
    "\n",
    "print(\"OK\")"
   ]
  },
  {
   "cell_type": "markdown",
   "metadata": {},
   "source": [
    "### MAE\n",
    "\n",
    "#### Qd Similar construct the Mean Absolute Error (MAE) function (Equation 2-2 [HOML]) and evaluate it.\n",
    "\n",
    "Since we already created a RMSE function in a previous exercise. We are also going to create a function MAE to calculate the norm of L1 instead of L2 "
   ]
  },
  {
   "cell_type": "code",
   "execution_count": 4,
   "metadata": {
    "ExecuteTime": {
     "end_time": "2023-09-28T12:58:18.587082Z",
     "start_time": "2023-09-28T12:58:18.541276Z"
    }
   },
   "outputs": [
    {
     "name": "stdout",
     "output_type": "stream",
     "text": [
      "MAE=3.75, diff=0.0\n",
      "OK\n"
     ]
    }
   ],
   "source": [
    "# Define the mean absolute error function using the L1 norm defined earlier\n",
    "def MAE(y_pred, y_true):\n",
    "    # Check if y_pred and y_true have the same shape\n",
    "    if y_pred.shape != y_true.shape:\n",
    "        raise ValueError(\"Input arrays y_pred and y_true must have the same shape.\")\n",
    "    return L1(y_pred - y_true)/y_pred.size\n",
    "\n",
    "# Calls your MAE function:\n",
    "r=MAE(h(X), y)\n",
    "\n",
    "# TEST vector:\n",
    "expected=3.75\n",
    "print(f\"MAE={r}, diff={r-expected}\")\n",
    "assert fabs(r-expected)<eps, \"MAE dist seems to be wrong\" \n",
    "\n",
    "print(\"OK\")"
   ]
  },
  {
   "cell_type": "markdown",
   "metadata": {},
   "source": [
    "## Pythonic Code\n",
    "\n",
    "### Robustness of Code\n",
    "\n",
    "#### Qe Robust Code \n",
    "\n",
    "We have to add error checking code (asserts or exceptions), that checks for right $\\hat\\by$-$\\by$ sizes of the MSE and MAE functions."
   ]
  },
  {
   "cell_type": "markdown",
   "metadata": {},
   "source": [
    "### Qf Conclusion\n",
    "\n",
    "In conclusion, going through the exercises for the supervised data-flow model in Python has provided valuable insights into its implementation using matrices and vectors. We have computed the cost function, RMSE (Root Mean Square Error), and applied two different norms - L1 (Euclidean) and L2 (Box-City) - to evaluate the loss/cost of the model aka how bad it is compared to the true value. Low number is good, high number is bad.\n",
    "\n",
    "Through these exercises, we have learned that linear algebra is important in understanding and optimizing supervised learning algorithms. \n",
    "\n",
    "The fundamental concepts are essential for anyone working with machine learning and data science, as they form the basis for building robust and accurate predictive models. "
   ]
  },
  {
   "cell_type": "markdown",
   "metadata": {},
   "source": [
    "# SWMAL Exercise\n",
    "\n",
    "## Implementing a dummy binary-classifier with fit-predict interface\n",
    "\n",
    "#### Qa Load and display the MNIST data\n",
    "\n",
    "In this exercise we are going to be using the `fetch_openml` function to import the MNIST data which is needed. `fetch_openml` can be imported through the module `sklearn.datasets`  "
   ]
  },
  {
   "cell_type": "code",
   "execution_count": 5,
   "metadata": {
    "ExecuteTime": {
     "end_time": "2023-09-14T08:11:49.004593Z",
     "start_time": "2023-09-14T08:11:44.101807600Z"
    }
   },
   "outputs": [
    {
     "name": "stdout",
     "output_type": "stream",
     "text": [
      "Lenght of samples:  70000\n",
      "Label for digit:  4\n"
     ]
    },
    {
     "data": {
      "image/png": "[encoded data removed]",
      "text/plain": [
       "<Figure size 640x480 with 1 Axes>"
      ]
     },
     "metadata": {},
     "output_type": "display_data"
    }
   ],
   "source": [
    "from sklearn.datasets import fetch_openml\n",
    "\n",
    "# Get data set \n",
    "def MNIST_GetDataSet():\n",
    "    X,y = fetch_openml('mnist_784', version=1, return_X_y=True, as_frame = False, parser = 'auto')\n",
    "    X = X / 255.\n",
    "    return X,y\n",
    "\n",
    "# Plot the digit\n",
    "%matplotlib inline\n",
    "def MNIST_PlotDigit(data):\n",
    "    import matplotlib\n",
    "    import matplotlib.pyplot as plt\n",
    "    image = data.reshape(28, 28)\n",
    "    plt.imshow(image, cmap = matplotlib.cm.binary, interpolation=\"nearest\")\n",
    "    plt.axis(\"off\")\n",
    "\n",
    "X,y = MNIST_GetDataSet()\n",
    "\n",
    "X = X / 255.\n",
    "\n",
    "print(\"Lenght of samples: \", len(X))\n",
    "print(\"Label for digit: \", y[9])\n",
    "\n",
    "digits_to_plot = X[9]\n",
    "\n",
    "MNIST_PlotDigit(digits_to_plot)"
   ]
  },
  {
   "cell_type": "markdown",
   "metadata": {},
   "source": [
    "#### Qb  Add a Stochastic Gradient Decent [SGD] Classifier\n",
    "\n",
    "In this exercise we are going to create a test-train scenario for our MNIST dataset. We are also going to use the `SGDClassifier` to add a stochastic gradient decent, to help fitting our dataset. "
   ]
  },
  {
   "cell_type": "code",
   "execution_count": 7,
   "metadata": {
    "ExecuteTime": {
     "end_time": "2023-09-14T08:12:41.451179300Z",
     "start_time": "2023-09-14T08:12:38.951403900Z"
    }
   },
   "outputs": [
    {
     "name": "stdout",
     "output_type": "stream",
     "text": [
      "X.shape=(70000, 784)\n",
      "X.shape=(70000, 784)\n",
      "Predicted Label: False\n"
     ]
    },
    {
     "data": {
      "image/png": "[encoded data removed]",
      "text/plain": [
       "<Figure size 640x480 with 1 Axes>"
      ]
     },
     "metadata": {},
     "output_type": "display_data"
    },
    {
     "name": "stdout",
     "output_type": "stream",
     "text": [
      "Predicted Label: False\n"
     ]
    },
    {
     "data": {
      "image/png": "[encoded data removed]",
      "text/plain": [
       "<Figure size 640x480 with 1 Axes>"
      ]
     },
     "metadata": {},
     "output_type": "display_data"
    },
    {
     "name": "stdout",
     "output_type": "stream",
     "text": [
      "Predicted Label: False\n"
     ]
    },
    {
     "data": {
      "image/png": "[encoded data removed]",
      "text/plain": [
       "<Figure size 640x480 with 1 Axes>"
      ]
     },
     "metadata": {},
     "output_type": "display_data"
    }
   ],
   "source": [
    "from matplotlib import pyplot as plt\n",
    "from sklearn.model_selection import train_test_split\n",
    "from sklearn.linear_model import SGDClassifier\n",
    "import numpy as np\n",
    "\n",
    "# X is reshaped to an 2D array if not already\n",
    "def reshape_X(X):\n",
    "    if X.ndim==3:\n",
    "        X = X.reshape((X.shape[0],X.shape[1]*X.shape[2]))\n",
    "    return X\n",
    "\n",
    "print(f\"X.shape={X.shape}\") # print X.shape= (70000, 28, 28)\n",
    "X = reshape_X(X)\n",
    "print(f\"X.shape={X.shape}\") # X.shape= (70000, 784)\n",
    "\n",
    "# Split data into train and test\n",
    "X_train, X_test, y_train, y_test = train_test_split(X, y, test_size=0.2)\n",
    "\n",
    "# Create binary classifier for the target y_train_5 with 5 as the true digit\n",
    "y_train_5 = (y_train == '5')\n",
    "y_test_5  = (y_test == '5')\n",
    "\n",
    "# Create SGD classifier\n",
    "sgd_clf = SGDClassifier(random_state=42)\n",
    "\n",
    "# Train using training data\n",
    "sgd_clf.fit(X_train, y_train_5)\n",
    "\n",
    "# Predict using test data\n",
    "y_pred = sgd_clf.predict(X_test)\n",
    "\n",
    "# Plot numbers that have been categorized correctly\n",
    "correct = np.where(y_pred == y_test_5)[0]\n",
    "\n",
    "for number in correct[:3]:\n",
    "    MNIST_PlotDigit(X_test[number])\n",
    "    # Predict if the digit is a 5 or not\n",
    "    prediction = sgd_clf.predict([X_test[number]])  # Provide the data sample\n",
    "    print(f\"Predicted Label: {prediction[0]}\")\n",
    "    plt.show()\n",
    "    "
   ]
  },
  {
   "cell_type": "code",
   "execution_count": 9,
   "metadata": {
    "ExecuteTime": {
     "end_time": "2023-09-14T08:14:22.351372Z",
     "start_time": "2023-09-14T08:14:22.181165400Z"
    }
   },
   "outputs": [
    {
     "name": "stdout",
     "output_type": "stream",
     "text": [
      "Predicted Label: False\n"
     ]
    },
    {
     "data": {
      "image/png": "[encoded data removed]",
      "text/plain": [
       "<Figure size 640x480 with 1 Axes>"
      ]
     },
     "metadata": {},
     "output_type": "display_data"
    },
    {
     "name": "stdout",
     "output_type": "stream",
     "text": [
      "Predicted Label: False\n"
     ]
    },
    {
     "data": {
      "image/png": "[encoded data removed]",
      "text/plain": [
       "<Figure size 640x480 with 1 Axes>"
      ]
     },
     "metadata": {},
     "output_type": "display_data"
    },
    {
     "name": "stdout",
     "output_type": "stream",
     "text": [
      "Predicted Label: False\n"
     ]
    },
    {
     "data": {
      "image/png": "[encoded data removed]",
      "text/plain": [
       "<Figure size 640x480 with 1 Axes>"
      ]
     },
     "metadata": {},
     "output_type": "display_data"
    }
   ],
   "source": [
    "misclassified_number = np.where(y_pred != y_test_5)[0]\n",
    "classified_number = np.where(y_pred == y_test_5)[0]\n",
    "\n",
    "# Plot numbers that have been categorized correctly\n",
    "for number in misclassified_number[:3]:\n",
    "    MNIST_PlotDigit(X_test[number])\n",
    "    # Predict if the digit is a 5 or not\n",
    "    prediction = sgd_clf.predict([X_test[number]])  # Provide the data sample\n",
    "    print(f\"Predicted Label: {prediction[0]}\")\n",
    "    plt.show()"
   ]
  },
  {
   "cell_type": "markdown",
   "metadata": {},
   "source": [
    "#### Qc Implement a dummy binary classifier\n",
    "\n",
    "In this exercise we will create a dummy binary classifier, that can classify every image class given. In this exercise is going to be given all the non-5's. "
   ]
  },
  {
   "cell_type": "code",
   "execution_count": 14,
   "metadata": {
    "ExecuteTime": {
     "end_time": "2023-09-14T08:21:51.079398300Z",
     "start_time": "2023-09-14T08:21:51.059211600Z"
    }
   },
   "outputs": [
    {
     "name": "stdout",
     "output_type": "stream",
     "text": [
      "Any digit is a 5: False\n",
      "Accuracy score: 0.9095535714285714\n"
     ]
    }
   ],
   "source": [
    "from sklearn.metrics import accuracy_score\n",
    "\n",
    "class DummyClassifier():\n",
    "    def __init__(self):\n",
    "        self.classes_ = None\n",
    "        self.dummy_class_ = None\n",
    "\n",
    "    def fit(self, X, y=None):\n",
    "        self.classes_ = np.unique(y)\n",
    "        self.dummy_class_ = np.argmax(np.bincount(y))\n",
    "        return self\n",
    "    \n",
    "    def predict(self, X):\n",
    "        return np.full(X.shape[0], fill_value=self.dummy_class_)\n",
    "    \n",
    "dummyClassifier = DummyClassifier()\n",
    "\n",
    "dummyClassifier.fit(X_train, y_train_5)\n",
    "y_pred = dummyClassifier.predict(X_train)\n",
    "\n",
    "print(f\"Any digit is a 5: {any(y_pred)}\")\n",
    "print(f\"Accuracy score: {accuracy_score(y_train_5, y_pred)}\")\n"
   ]
  },
  {
   "cell_type": "markdown",
   "metadata": {},
   "source": [
    "### Qd Conclusion\n",
    "In the exercise, we employed the SGDClassifier to train our MNIST dataset. \n",
    "The results of the exercise reveal that our training and testing phases yielded both accurate and inaccurate \n",
    "predictions. \n",
    "Evaluating the classifier's performance presents a challenge. \n",
    "Notably, our DummyClassifier achieved a 90% accuracy score by simply classifying every digit as non-5, since the\n",
    "majority of digits in the dataset are indeed non-5 (constituting 90% of the data). \n",
    "However, this accuracy score fails to provide an accurate assessment of our model's fitness for the task at hand.\n",
    " \n",
    "Consequently, we can infer that relying solely on accuracy as a performance metric is not advisable, particularly\n",
    "when dealing with classifiers and datasets where certain classes are significantly more prevalent than others."
   ]
  },
  {
   "cell_type": "markdown",
   "metadata": {},
   "source": [
    "# SWMAL Exercise\n",
    "\n",
    "\n",
    "## Performance Metrics\n",
    "\n",
    "#### Qa Implement the Accuracy function and test it on the MNIST data.\n",
    "\n",
    "We are going to be creating a function called `PredictAccuracy`. This function will be used to give feedback to use on how many elements were predicted right.  "
   ]
  },
  {
   "cell_type": "code",
   "execution_count": 3,
   "metadata": {
    "ExecuteTime": {
     "end_time": "2023-09-14T11:33:40.982426500Z",
     "start_time": "2023-09-14T11:33:33.962515800Z"
    }
   },
   "outputs": [],
   "source": [
    "import numpy as np\n",
    "from sklearn.linear_model import SGDClassifier\n",
    "from sklearn.model_selection import train_test_split\n",
    "\n",
    "from sklearn.datasets import fetch_openml\n",
    "\n",
    "# Get data set \n",
    "def MNIST_GetDataSet():\n",
    "    X,y = fetch_openml('mnist_784', version=1, return_X_y=True, as_frame = False, parser = 'auto')\n",
    "    X = X / 255.\n",
    "    return X,y\n",
    "\n",
    "X,y = MNIST_GetDataSet()\n",
    "X = X / 255.\n",
    "\n",
    "# Split data into train and test\n",
    "X_train, X_test, y_train, y_test = train_test_split(X, y, test_size=0.2)\n",
    "\n",
    "# Create binary classifier for the target y_train_5 with 5 as the true digit\n",
    "y_train_5 = (y_train == '5')\n",
    "y_test_5  = (y_test == '5')\n",
    "\n",
    "# Create SGD classifier\n",
    "sgd_clf = SGDClassifier(random_state=42)\n",
    "\n",
    "# Train using training data\n",
    "sgd_clf.fit(X_train, y_train_5)\n",
    "\n",
    "# Predict using test data\n",
    "y_pred = sgd_clf.predict(X_test)\n",
    "\n",
    "from sklearn.metrics import accuracy_score\n",
    "\n",
    "class DummyClassifier():\n",
    "    def __init__(self):\n",
    "        self.classes_ = None\n",
    "        self.dummy_class_ = None\n",
    "\n",
    "    def fit(self, X, y=None):\n",
    "        self.classes_ = np.unique(y)\n",
    "        self.dummy_class_ = np.argmax(np.bincount(y))\n",
    "        return self\n",
    "    \n",
    "    def predict(self, X):\n",
    "        return np.full(X.shape[0], fill_value=self.dummy_class_)\n",
    "    \n",
    "dummyClassifier = DummyClassifier()\n",
    "dummyClassifier.fit(X_train, y_train_5)\n",
    "y_pred_dummy = dummyClassifier.predict(X_train)\n"
   ]
  },
  {
   "cell_type": "code",
   "execution_count": 6,
   "metadata": {
    "ExecuteTime": {
     "end_time": "2023-09-14T11:34:31.773445900Z",
     "start_time": "2023-09-14T11:34:31.659627200Z"
    }
   },
   "outputs": [
    {
     "name": "stdout",
     "output_type": "stream",
     "text": [
      "\n",
      "TestAccuracy() simple example:\n",
      "\n",
      "my a          =0.75\n",
      "scikit-learn a=0.75\n",
      "\n",
      "TestAccuracy() on sdg:\n",
      "\n",
      "my a          =0.9117142857142857\n",
      "scikit-learn a=0.9117142857142857\n",
      "\n",
      "TestAccuracy() on dummy:\n",
      "\n",
      "my a          =0.9093392857142857\n",
      "scikit-learn a=0.9093392857142857\n"
     ]
    }
   ],
   "source": [
    "from sklearn.metrics import accuracy_score\n",
    "\n",
    "def predictAccuracy(y_true, y_pred):\n",
    "    if len(y_true) == 0 or len(y_pred) == 0:\n",
    "        return 0\n",
    "    y_pred_correct=[]\n",
    "    for i in range(len(y_true)):\n",
    "        if y_true[i] == y_pred[i]:\n",
    "            y_pred_correct.append(y_pred[i])\n",
    "    return len(y_pred_correct)/len(y_true)\n",
    "    \n",
    "# TEST FUNCTION: example of a comperator, using Scikit-learn accuracy_score\n",
    "def testAccuracy(y_true, y_pred):\n",
    "    a0=predictAccuracy(y_true, y_pred)\n",
    "    a1=accuracy_score(y_true, y_pred)\n",
    "\n",
    "    print(f\"\\nmy a          ={a0}\")\n",
    "    print(f\"scikit-learn a={a1}\")\n",
    "\n",
    "print(\"\\nTestAccuracy() simple example:\")\n",
    "testAccuracy([1,2,3,4], [1,2,3,3])\n",
    "\n",
    "print(\"\\nTestAccuracy() on sdg:\")\n",
    "testAccuracy(y_test_5, y_pred)\n",
    "print(\"\\nTestAccuracy() on dummy:\")\n",
    "testAccuracy(y_train_5, y_pred_dummy)\n"
   ]
  },
  {
   "cell_type": "markdown",
   "metadata": {},
   "source": [
    "#### Qb Implement Precision, Recall and $F_1$-score and test it on the MNIST data for both the SGD and Dummy classifier models\n",
    "\n",
    "In the following exercise we are going to be implementing a function called `myPrecision`. This function is going to give us an idea of how precise our predictions were.  "
   ]
  },
  {
   "cell_type": "code",
   "execution_count": 8,
   "metadata": {
    "ExecuteTime": {
     "end_time": "2023-09-15T09:21:43.875698900Z",
     "start_time": "2023-09-15T09:21:42.780410200Z"
    }
   },
   "outputs": [
    {
     "name": "stdout",
     "output_type": "stream",
     "text": [
      "\n",
      "MyPrecision_Test() simple example:\n",
      "\n",
      "precision = 0.6666666666666666\n",
      "precision_scikit = 0.6666666666666666\n",
      "\n",
      "MyPrecision_Test() on y_pred:\n",
      "\n",
      "precision = 0\n",
      "precision_scikit = 0.0\n",
      "\n",
      "MyPrecision_Test() on y_pred_dummy:\n",
      "\n",
      "precision = 0\n",
      "precision_scikit = 0.0\n",
      "\n",
      "MyRecall_Test() usage example:\n",
      "\n",
      "recall = 0.75\n",
      "recall_scikit = 0.75\n",
      "\n",
      "MyRecall_Test() on y_pred:\n",
      "\n",
      "recall = 0.0\n",
      "recall_scikit = 0.0\n",
      "\n",
      "MyRecall_Test() on y_pred_dummy:\n",
      "\n",
      "recall = 0.0\n",
      "recall_scikit = 0.0\n",
      "\n",
      "F1Score_Test() simple example:\n",
      "\n",
      "f1Score = 0.4\n",
      "f1Score_scikit=0.4\n",
      "\n",
      "F1Score_Test() on y_pred:\n",
      "\n",
      "f1Score = 0\n",
      "f1Score_scikit=0.0\n",
      "\n",
      "F1Score_Test() on y_pred_dummy:\n",
      "\n",
      "f1Score = 0\n",
      "f1Score_scikit=0.0\n"
     ]
    }
   ],
   "source": [
    "import sklearn.metrics as metrics\n",
    "\n",
    "def myPrecision(y_true, y_pred):\n",
    "    pcp = [item for item in y_pred if item == True]\n",
    "    if len(pcp)==0:\n",
    "        return 0\n",
    "    y_predCorrect=[]\n",
    "    for i in range(len(y_true)):\n",
    "        if y_true[i]==True and y_pred[i]==True:\n",
    "            y_predCorrect.append(y_pred[i])\n",
    "    return len(y_predCorrect)/len(pcp)\n",
    "\n",
    "def myPrecision_Test(y_true, y_pred):\n",
    "    if len(y_true) != len(y_pred):\n",
    "      print(\"Error: Input arrays have different lengths.\")\n",
    "      return\n",
    "    precision=myPrecision(y_true, y_pred)\n",
    "    precision_scikit=metrics.precision_score(y_true, y_pred, zero_division = 0.0)\n",
    "\n",
    "    print(f\"\\nprecision = {precision}\")\n",
    "    print(f\"precision_scikit = {precision_scikit}\")\n",
    "\n",
    "print(\"\\nMyPrecision_Test() simple example:\")\n",
    "myPrecision_Test([True,True,False,True], [True,True,True,False])\n",
    "print(\"\\nMyPrecision_Test() on y_pred:\")\n",
    "myPrecision_Test(y_test_5, y_pred)\n",
    "print(\"\\nMyPrecision_Test() on y_pred_dummy:\")\n",
    "myPrecision_Test(y_train_5, y_pred_dummy)\n",
    "\n",
    "def myRecall(y_true, y_pred):\n",
    "     #condition positive\n",
    "    cp = [item for item in y_true if item == True]\n",
    "    y_predCorrect=[]\n",
    "    for i in range(len(y_true)):\n",
    "        if y_true[i]==True and y_pred[i]==True:\n",
    "            y_predCorrect.append(y_pred[i])\n",
    "    return len(y_predCorrect)/len(cp)\n",
    "\n",
    "def myRecall_Test(y_true, y_pred):\n",
    "    if len(y_true) != len(y_pred):\n",
    "      print(\"Error: Input arrays have different lengths.\")\n",
    "      return\n",
    "    recall=myRecall(y_true, y_pred)\n",
    "    recall_scikit=metrics.recall_score(y_true, y_pred)\n",
    "\n",
    "    print(f\"\\nrecall = {recall}\")\n",
    "    print(f\"recall_scikit = {recall_scikit}\")\n",
    "\n",
    "print(\"\\nMyRecall_Test() usage example:\")\n",
    "myRecall_Test([True,True,True,True], [True,True,True,False])\n",
    "print(\"\\nMyRecall_Test() on y_pred:\")\n",
    "myRecall_Test(y_test_5, y_pred)\n",
    "print(\"\\nMyRecall_Test() on y_pred_dummy:\")\n",
    "myRecall_Test(y_train_5, y_pred_dummy)\n",
    "\n",
    "def myF1Score(y_true, y_pred):\n",
    "    p = myPrecision(y_true, y_pred)\n",
    "    r = myRecall(y_true, y_pred)\n",
    "    if p==0 or r==0:\n",
    "        return 0\n",
    "    return 2/((1/p)+(1/r))\n",
    "\n",
    "def f1Score_Test(y_true, y_pred):\n",
    "    if len(y_true) != len(y_pred):\n",
    "      print(\"Error: Input arrays have different lengths.\")\n",
    "      return\n",
    "    f1Score=myF1Score(y_true, y_pred)\n",
    "    f1Score_scikit=metrics.f1_score(y_true, y_pred)\n",
    "\n",
    "    print(f\"\\nf1Score = {f1Score}\")\n",
    "    print(f\"f1Score_scikit={f1Score_scikit}\")\n",
    "\n",
    "print(\"\\nF1Score_Test() simple example:\")\n",
    "f1Score_Test([True,True,False,True], [True,False,True,False])\n",
    "print(\"\\nF1Score_Test() on y_pred:\")\n",
    "f1Score_Test(y_test_5, y_pred)\n",
    "print(\"\\nF1Score_Test() on y_pred_dummy:\")\n",
    "f1Score_Test(y_train_5, y_pred_dummy)"
   ]
  },
  {
   "cell_type": "markdown",
   "metadata": {},
   "source": [
    "#### Qc The Confusion Matrix\n",
    "\n",
    "In this exercise we are going to be creating 3 confusion matrices. We are creating oen for each of the `sdg`'s and one for the dummy. "
   ]
  },
  {
   "cell_type": "code",
   "execution_count": 10,
   "metadata": {
    "ExecuteTime": {
     "end_time": "2023-09-14T14:40:56.422481400Z",
     "start_time": "2023-09-14T14:40:56.401498100Z"
    }
   },
   "outputs": [
    {
     "name": "stdout",
     "output_type": "stream",
     "text": [
      "sdg: \n",
      "[[12764     0]\n",
      " [ 1236     0]]\n",
      "\n",
      "dummy: \n",
      "[[50923     0]\n",
      " [ 5077     0]]\n",
      "\n",
      "sdg reversed: \n",
      "[[12764  1236]\n",
      " [    0     0]]\n"
     ]
    }
   ],
   "source": [
    "from sklearn.metrics import confusion_matrix\n",
    "cm_sdg = confusion_matrix(y_test_5, y_pred)\n",
    "cm_sdg_reversed = confusion_matrix(y_pred, y_test_5)\n",
    "cm_dummy = confusion_matrix(y_train_5, y_pred_dummy)\n",
    "\n",
    "print(f\"sdg: \\n{cm_sdg}\\n\")\n",
    "print(f\"dummy: \\n{cm_dummy}\\n\")\n",
    "print(f\"sdg reversed: \\n{cm_sdg_reversed}\\n\")"
   ]
  },
  {
   "cell_type": "markdown",
   "metadata": {},
   "source": [
    "#### Qd A Confusion Matrix Heat-map\n",
    "\n",
    "We will in this exercise use python to create heat-maps for the confusion matrices from exercise Qc."
   ]
  },
  {
   "cell_type": "code",
   "execution_count": 13,
   "metadata": {
    "ExecuteTime": {
     "end_time": "2023-09-14T14:45:32.650502800Z",
     "start_time": "2023-09-14T14:45:32.338387200Z"
    }
   },
   "outputs": [
    {
     "data": {
      "image/png": "[encoded data removed]",
      "text/plain": [
       "<Figure size 640x480 with 2 Axes>"
      ]
     },
     "metadata": {},
     "output_type": "display_data"
    },
    {
     "data": {
      "image/png": "[encoded data removed]",
      "text/plain": [
       "<Figure size 640x480 with 2 Axes>"
      ]
     },
     "metadata": {},
     "output_type": "display_data"
    }
   ],
   "source": [
    "from matplotlib import pyplot as plt\n",
    "from sklearn.metrics import ConfusionMatrixDisplay\n",
    "\n",
    "plt.rc('font', size=10) \n",
    "ConfusionMatrixDisplay.from_predictions(y_train_5,y_pred_dummy) \n",
    "plt.show()\n",
    "\n",
    "ConfusionMatrixDisplay.from_predictions(y_test_5,y_pred)\n",
    "plt.show()"
   ]
  },
  {
   "cell_type": "markdown",
   "metadata": {},
   "source": [
    "### Qe Conclusion\n",
    "In this exercise, we did an evaluation of classification algorithms using custom Python metrics as well as the functions provided by scikit-learn.\n",
    "The primary objective of this exercise was to emphasize the significance of utilizing specific metrics when evaluating your algorithm, as the choice of metrics should align with the particular use case. For instance, in the context of identifying criminals, prioritizing high precision is crucial, while for disease detection, a high recall or sensitivity is more pertinent. Additionally, the F1-score proves useful when you need to strike a balance between true positives and true negatives, making it especially relevant, as seen in the \"is this a 5?\" algorithm. Consequently, the F1-score offers a more precise assessment of the utility of both the SGD algorithm and the Dummy classifier, with their respective accuracy rates of approximately 75% and 0%.\n",
    "\n",
    "Moreover, we employed confusion matrices and heatmaps to gain in-depth insights into the performance of these classifiers, providing a visually informative component to complement the quantitative metrics."
   ]
  }
 ],
 "metadata": {
  "kernelspec": {
   "display_name": "Python 3 (ipykernel)",
   "language": "python",
   "name": "python3"
  },
  "language_info": {
   "codemirror_mode": {
    "name": "ipython",
    "version": 3
   },
   "file_extension": ".py",
   "mimetype": "text/x-python",
   "name": "python",
   "nbconvert_exporter": "python",
   "pygments_lexer": "ipython3",
   "version": "3.11.4"
  },
  "varInspector": {
   "cols": {
    "lenName": 16,
    "lenType": 16,
    "lenVar": 40
   },
   "kernels_config": {
    "python": {
     "delete_cmd_postfix": "",
     "delete_cmd_prefix": "del ",
     "library": "var_list.py",
     "varRefreshCmd": "print(var_dic_list())"
    },
    "r": {
     "delete_cmd_postfix": ") ",
     "delete_cmd_prefix": "rm(",
     "library": "var_list.r",
     "varRefreshCmd": "cat(var_dic_list()) "
    }
   },
   "types_to_exclude": [
    "module",
    "function",
    "builtin_function_or_method",
    "instance",
    "_Feature"
   ],
   "window_display": true
  }
 },
 "nbformat": 4,
 "nbformat_minor": 2
}
