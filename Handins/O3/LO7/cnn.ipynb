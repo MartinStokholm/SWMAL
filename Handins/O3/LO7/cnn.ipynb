{
 "cells": [
  {
   "cell_type": "markdown",
   "metadata": {},
   "source": [
    "# SWMAL Exercise\n",
    "\n",
    "\n",
    "## Convolutional Neural Networks (CNNs)\n",
    "\n",
    "\n",
    "Excercise 9 from [HOML], p.496 2nd./p.535 3rd. (slighty modified):\n",
    "\n",
    "__\"9. Build an CNN via the Keras API and try to achieve the highest possible accuracy on MNIST.\"__\n",
    "\n",
    "For the journal: \n",
    "\n",
    "* write an introduction to CNNs (what are CNNs, what is a convolution layer, etc..), \n",
    "* document your experiments towards the end-goal of reaching 'a high accuracy' (what did you try, what work/did not work), \n",
    "* document how you use '_generalization_' in your setup (us of simple hold-out/train-test split or k-fold, or etc..),\n",
    "* produce some sort of '_learning-curve_' that illustrates the drop in cost- or increase in score-function with respect to, say training iteration (for inspiration see fig 4.20, 10-12 or 10.17 in [HOML]),\n",
    "* document the final CNN setup (layers etc., perhaps as a graph/drawing), \n",
    "* discus on your iterations towards the end-goal and other findings you had,\n",
    "* and, as always, write a conclusion.\n",
    "\n",
    "If you use a code template from slides, HOML or the internet, then remember to add a reference to the original work in you journal."
   ]
  },
  {
   "cell_type": "code",
   "execution_count": 5,
   "metadata": {
    "ExecuteTime": {
     "end_time": "2023-11-07T10:01:55.540633Z",
     "start_time": "2023-11-07T09:50:14.136766Z"
    }
   },
   "outputs": [
    {
     "name": "stdout",
     "output_type": "stream",
     "text": [
      "313/313 [==============================] - 1s 3ms/step - loss: 0.0385 - accuracy: 0.9909\n",
      "313/313 [==============================] - 1s 3ms/step - loss: 0.0555 - accuracy: 0.9889\n",
      "313/313 [==============================] - 1s 3ms/step - loss: 0.0514 - accuracy: 0.9890\n",
      "313/313 [==============================] - 1s 3ms/step - loss: 0.0583 - accuracy: 0.9892\n",
      "313/313 [==============================] - 1s 3ms/step - loss: 0.0423 - accuracy: 0.9929\n",
      "Test average accuracy: 0.992900013923645\n"
     ]
    }
   ],
   "source": [
    "import keras\n",
    "import numpy as np\n",
    "from sklearn.model_selection import StratifiedKFold\n",
    "\n",
    "(x_train, y_train ), (x_test, y_test) = keras.datasets.mnist.load_data()\n",
    "\n",
    "x_train = x_train.reshape((-1,28,28,1)).astype('float32') / 255.0\n",
    "x_test = x_test.reshape((-1,28,28,1)).astype('float32') / 255.0\n",
    "\n",
    "y_train = keras.utils.to_categorical(y_train, num_classes=10)\n",
    "y_test = keras.utils.to_categorical(y_test, num_classes=10)\n",
    "\n",
    "def create():\n",
    "    model = keras.models.Sequential()\n",
    "    model.add(keras.layers.Conv2D(32,(3,3), activation='relu', input_shape=(28,28,1)))\n",
    "    model.add(keras.layers.MaxPooling2D((2, 2)))\n",
    "    model.add(keras.layers.Conv2D(64, (3, 3), activation='relu'))\n",
    "    model.add(keras.layers.MaxPooling2D((2, 2)))\n",
    "    model.add(keras.layers.Conv2D(64, (3, 3), activation='relu'))\n",
    "    model.add(keras.layers.Flatten())\n",
    "    model.add(keras.layers.Dense(64, activation='relu'))\n",
    "    model.add(keras.layers.Dense(10, activation='softmax'))\n",
    "\n",
    "    model.compile(optimizer='adam', loss='categorical_crossentropy',metrics=['accuracy'])\n",
    "    return model\n",
    "\n",
    "folds = 5\n",
    "kfold = StratifiedKFold(n_splits=folds, shuffle=True, random_state=50)\n",
    "test_accuracy = []\n",
    "\n",
    "for train, val in kfold.split(x_train,y_train.argmax(1)):\n",
    "\n",
    "    model = create()\n",
    "\n",
    "    x_train_kfold, x_val_kfold = x_train[train], x_train[val]\n",
    "    y_train_kfold, y_val_kfold = y_train[train], y_train[val]\n",
    "\n",
    "    model.fit(x_train_kfold, y_train_kfold, epochs=20, batch_size=64, verbose=0)\n",
    "\n",
    "    test_loss, test_accuracy = model.evaluate(x_test,y_test)\n",
    "\n",
    "avg_accuracy = np.mean(test_accuracy)\n",
    "print(f'Test average accuracy: {avg_accuracy}')"
   ]
  },
  {
   "cell_type": "code",
   "execution_count": 4,
   "metadata": {
    "collapsed": false,
    "ExecuteTime": {
     "end_time": "2023-11-07T09:50:11.576793Z",
     "start_time": "2023-11-07T09:50:11.561213Z"
    }
   },
   "outputs": [],
   "source": []
  },
  {
   "cell_type": "code",
   "execution_count": null,
   "outputs": [],
   "source": [],
   "metadata": {
    "collapsed": false
   }
  }
 ],
 "metadata": {
  "kernelspec": {
   "display_name": "Python 3 (ipykernel)",
   "language": "python",
   "name": "python3"
  },
  "language_info": {
   "codemirror_mode": {
    "name": "ipython",
    "version": 3
   },
   "file_extension": ".py",
   "mimetype": "text/x-python",
   "name": "python",
   "nbconvert_exporter": "python",
   "pygments_lexer": "ipython3",
   "version": "3.9.12"
  },
  "varInspector": {
   "cols": {
    "lenName": 16,
    "lenType": 16,
    "lenVar": 40
   },
   "kernels_config": {
    "python": {
     "delete_cmd_postfix": "",
     "delete_cmd_prefix": "del ",
     "library": "var_list.py",
     "varRefreshCmd": "print(var_dic_list())"
    },
    "r": {
     "delete_cmd_postfix": ") ",
     "delete_cmd_prefix": "rm(",
     "library": "var_list.r",
     "varRefreshCmd": "cat(var_dic_list()) "
    }
   },
   "types_to_exclude": [
    "module",
    "function",
    "builtin_function_or_method",
    "instance",
    "_Feature"
   ],
   "window_display": true
  }
 },
 "nbformat": 4,
 "nbformat_minor": 4
}
