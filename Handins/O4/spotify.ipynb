{
 "cells": [
  {
   "cell_type": "markdown",
   "source": [
    "## Spotify streams prediction\n",
    "\n",
    "We want to predict what the next song should be based on the current song playing.\n",
    "Source: https://www.kaggle.com/datasets/nelgiriyewithana/top-spotify-songs-2023\n",
    "\n",
    "This dataset contains a comprehensive list of the most famous songs of 2023 as listed on Spotify. The dataset offers a wealth of features beyond what is typically available in similar datasets. It provides insights into each song’s attributes, popularity, and presence on various music platforms. The dataset includes information such as track name, artist(s) name, release date, Spotify playlists and charts, streaming statistics, Apple Music presence, Deezer presence, Shazam charts, and various audio features.\n",
    "\n",
    "The dataset contains 2023 rows and 18 columns. The columns are as follows:\n",
    "\n",
    "Features track_name: Name of the song \n",
    "\n",
    "artist(s)name: Name of the artist(s) of the song \n",
    "\n",
    "artist_count: Number of artists contributing to the song \n",
    "\n",
    "released_year: Year when the song was released \n",
    "\n",
    "released_month: Month when the song was released \n",
    "\n",
    "released_day: Day of the month when the song was released \n",
    "\n",
    "in_spotify_playlists: Number of Spotify playlists the song is included in \n",
    "\n",
    "in_spotify_charts: Presence and rank of the song on Spotify \n",
    "\n",
    "charts streams: Total number of streams on Spotify \n",
    "\n",
    "in_apple_playlists: Number of Apple Music playlists the song is included in \n",
    "\n",
    "in_apple_charts: Presence and rank of the song on Apple Music charts\n",
    "\n",
    "in_deezer_playlists: Number of Deezer playlists the song is included in \n",
    "\n",
    "in_deezer_charts: Presence and rank of the song on Deezer charts \n",
    "\n",
    "in_shazam_charts: Presence and rank of the song on Shazam charts \n",
    "\n",
    "bpm: Beats per minute, a measure of song tempo \n",
    "\n",
    "key: Key of the song \n",
    "\n",
    "mode: Mode of the song (major or minor) \n",
    "\n",
    "danceability%: Percentage indicating how suitable the song is for dancing\n",
    "\n",
    "valence_%: Positivity of the song’s musical content \n",
    "\n",
    "energy_%: Perceived energy level of the song \n",
    "\n",
    "acousticness_%: Amount of acoustic sound in the song \n",
    "\n",
    "instrumentalness_%: Amount of instrumental content in the song \n",
    "\n",
    "liveness_%: Presence of live performance elements \n",
    "\n",
    "speechiness_%: Amount of spoken words in the song\n",
    "\n",
    "We want to use the dataset to predict what song a person would be most likely\n",
    "to want to listen to based on the current song the person is listening to.\n",
    "So we want to do regression."
   ],
   "metadata": {
    "collapsed": false
   },
   "id": "c1223e7525e20f9c"
  }
 ],
 "metadata": {
  "kernelspec": {
   "display_name": "Python 3",
   "language": "python",
   "name": "python3"
  },
  "language_info": {
   "codemirror_mode": {
    "name": "ipython",
    "version": 2
   },
   "file_extension": ".py",
   "mimetype": "text/x-python",
   "name": "python",
   "nbconvert_exporter": "python",
   "pygments_lexer": "ipython2",
   "version": "2.7.6"
  }
 },
 "nbformat": 4,
 "nbformat_minor": 5
}
