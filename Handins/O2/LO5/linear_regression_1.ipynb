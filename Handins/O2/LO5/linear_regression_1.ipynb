{
 "cells": [
  {
   "cell_type": "markdown",
   "source": [
    "# SWMAL Exercise\n",
    "\n",
    "\n",
    "## Training a Linear Regressor I \n",
    "\n",
    "#### Qa Write a Python function that uses the closed-form to find $\\bw^*$\n",
    "In this assignment we are going to make a function called closed_form, this function is going use the normal equation to calculate the closed form for the given dataset.   \n",
    "![](figs/linear_reg.png) "
   ],
   "metadata": {
    "collapsed": false
   }
  },
  {
   "cell_type": "code",
   "execution_count": 1,
   "metadata": {
    "ExecuteTime": {
     "end_time": "2023-10-13T08:41:01.313207Z",
     "start_time": "2023-10-13T08:41:00.886280Z"
    }
   },
   "outputs": [
    {
     "name": "stdout",
     "output_type": "stream",
     "text": [
      "w=[4.046879011698 1.880121487278]\n",
      "OK\n"
     ]
    }
   ],
   "source": [
    "import numpy as np\n",
    "from libitmal import utils as itmalutils\n",
    "\n",
    "def GenerateData():\n",
    "    X = np.array([[8.34044009e-01],[1.44064899e+00],[2.28749635e-04],[6.04665145e-01]])\n",
    "    y = np.array([5.97396028, 7.24897834, 4.86609388, 3.51245674])\n",
    "    return X, y\n",
    "\n",
    "X, y = GenerateData()\n",
    "\n",
    "def closed_form(X,y ): \n",
    "    Xw = np.c_[np.ones((X.shape[0],1)),X]\n",
    "    w = np.linalg.inv(Xw.T.dot(Xw)).dot(Xw.T).dot(y)\n",
    "    return w\n",
    "    \n",
    "w = closed_form(X,y)\n",
    "\n",
    "\n",
    "w_expected = np.array([4.046879011698, 1.880121487278])\n",
    "itmalutils.PrintMatrix(w, label=\"w=\", precision=12)\n",
    "itmalutils.AssertInRange(w, w_expected, eps=1E-9)\n",
    "\n",
    "print(\"OK\")"
   ]
  },
  {
   "cell_type": "markdown",
   "metadata": {},
   "source": [
    "#### Qb Find the limits of the least-square method\n",
    "When calculating a matrix inverse it can become really computationally expensive, especially when the datasets get bigger. This a also the case when dealing with a singular matrix as a singular matrix does not have a true inverse. \n",
    "The reason why it takes so long is that we are essentially doubling the amount of features which we then have to multipy. This can increase the computationally requirement to the power of 2 if not more.\n",
    "\n",
    "In the code below we show what happens when we use the same closed form function on this new dataset.    "
   ]
  },
  {
   "cell_type": "code",
   "execution_count": 2,
   "metadata": {
    "ExecuteTime": {
     "end_time": "2023-10-13T08:41:01.397312Z",
     "start_time": "2023-10-13T08:41:01.314478Z"
    }
   },
   "outputs": [
    {
     "name": "stdout",
     "output_type": "stream",
     "text": [
      "GenerateData(M=20, N=20)...\n",
      "w=[ 1666387.6522391168          2.440138765068   364127.5904865566\n",
      "   -1027466.1645898503    -355721.36792835535     54929.83393126494\n",
      "    -379931.118432713       82890.96110258554   -260862.74546856692\n",
      "      10940.28645291776   -169174.49388806624    433595.06783124025\n",
      "    -130711.18777773138    275061.54123814934    -50454.66427360985\n",
      "    -149800.40928558327    107994.2931500705      91549.59121476265\n",
      "       4787.795785624737    37335.09230006993    -43486.09013774255 ]\n"
     ]
    }
   ],
   "source": [
    "def GenerateData(M, N):\n",
    "    print(f'GenerateData(M={N}, N={N})...')\n",
    "    \n",
    "    assert M>0\n",
    "    assert N>0\n",
    "    assert isinstance(M, int)\n",
    "    assert isinstance(N, int)\n",
    "\n",
    "    # NOTE: not always possible to invert a random matrix; \n",
    "    #       it becomes sigular, hence a more elaborate choice \n",
    "    #       of values below (but still a hack): \n",
    "    X=2 * np.ones([M, N])\n",
    "    for i in range(X.shape[0]):\n",
    "        X[i,0]=i*4\n",
    "    for j in range(X.shape[1]):\n",
    "        X[0,j]=-j*4\n",
    "\n",
    "    y=4 + 3*X + np.random.randn(M,1)\n",
    "    y=y[:,0] # well, could do better here!\n",
    "    \n",
    "    return X, y\n",
    "\n",
    "X, y = GenerateData(M=10000, N=20)\n",
    "\n",
    "w = closed_form(X,y) \n",
    "itmalutils.PrintMatrix(w, label=\"w=\", precision=12)"
   ]
  }
 ],
 "metadata": {
  "kernelspec": {
   "display_name": "Python 3 (ipykernel)",
   "language": "python",
   "name": "python3"
  },
  "language_info": {
   "codemirror_mode": {
    "name": "ipython",
    "version": 3
   },
   "file_extension": ".py",
   "mimetype": "text/x-python",
   "name": "python",
   "nbconvert_exporter": "python",
   "pygments_lexer": "ipython3",
   "version": "3.9.12"
  },
  "varInspector": {
   "cols": {
    "lenName": 16,
    "lenType": 16,
    "lenVar": 40
   },
   "kernels_config": {
    "python": {
     "delete_cmd_postfix": "",
     "delete_cmd_prefix": "del ",
     "library": "var_list.py",
     "varRefreshCmd": "print(var_dic_list())"
    },
    "r": {
     "delete_cmd_postfix": ") ",
     "delete_cmd_prefix": "rm(",
     "library": "var_list.r",
     "varRefreshCmd": "cat(var_dic_list()) "
    }
   },
   "types_to_exclude": [
    "module",
    "function",
    "builtin_function_or_method",
    "instance",
    "_Feature"
   ],
   "window_display": false
  }
 },
 "nbformat": 4,
 "nbformat_minor": 2
}
