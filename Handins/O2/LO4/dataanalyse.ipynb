{
 "cells": [
  {
   "cell_type": "markdown",
   "metadata": {},
   "source": [
    "#  SWMAL Exercise\n",
    "\n",
    "## Dataanalysis \n",
    "\n",
    "### Qa) Description of dataset for O4\n",
    "\n",
    "\n",
    "We want to predict what the next song should be based on the current song playing.\n",
    " \n",
    "Source: https://www.kaggle.com/datasets/nelgiriyewithana/top-spotify-songs-2023\n",
    "\n",
    "This dataset contains a comprehensive list of the most famous songs of 2023 as listed on Spotify. The dataset offers a wealth of features beyond what is typically available in similar datasets. It provides insights into each song's attributes, popularity, and presence on various music platforms. The dataset includes information such as track name, artist(s) name, release date, Spotify playlists and charts, streaming statistics, Apple Music presence, Deezer presence, Shazam charts, and various audio features.\n",
    "\n",
    "\n",
    "__Features__\n",
    "track_name: Name of the song\n",
    "artist(s)_name: Name of the artist(s) of the song\n",
    "artist_count: Number of artists contributing to the song\n",
    "released_year: Year when the song was released\n",
    "released_month: Month when the song was released\n",
    "released_day: Day of the month when the song was released\n",
    "in_spotify_playlists: Number of Spotify playlists the song is included in\n",
    "in_spotify_charts: Presence and rank of the song on Spotify charts\n",
    "streams: Total number of streams on Spotify\n",
    "in_apple_playlists: Number of Apple Music playlists the song is included in\n",
    "in_apple_charts: Presence and rank of the song on Apple Music charts\n",
    "in_deezer_playlists: Number of Deezer playlists the song is included in\n",
    "in_deezer_charts: Presence and rank of the song on Deezer charts\n",
    "in_shazam_charts: Presence and rank of the song on Shazam charts\n",
    "bpm: Beats per minute, a measure of song tempo\n",
    "key: Key of the song\n",
    "mode: Mode of the song (major or minor)\n",
    "danceability_%: Percentage indicating how suitable the song is for dancing\n",
    "valence_%: Positivity of the song's musical content\n",
    "energy_%: Perceived energy level of the song\n",
    "acousticness_%: Amount of acoustic sound in the song\n",
    "instrumentalness_%: Amount of instrumental content in the song\n",
    "liveness_%: Presence of live performance elements\n",
    "speechiness_%: Amount of spoken words in the song\n",
    "\n",
    "\n",
    "We want to use the dataset to predict what song a person would be most likely to want to listen to based on the current song the person is listening to. \n",
    "\n",
    "So we want to do regression. \n",
    "\n",
    "\n",
    "### Qb) Dataanalysis of dataset\n",
    "\n",
    "Lav data analyse på jeres egne data og projekt.\n",
    "\n",
    "Det indebærer de sædvanlige elementer såsom plotte histogrammer, middelværdi/median/spredning, analysere for outliers/korrupte data, forslag til skalering af data og lignende former for analyse af data.\n",
    "\n",
    "For nogle typer data (fx billed-data), hvor features ikke har en specifik betydning, er det mest\n",
    "histogrammer og lignende, som giver mening – det er helt o.k. \n"
   ]
  },
  {
   "cell_type": "code",
   "execution_count": null,
   "outputs": [],
   "source": [],
   "metadata": {
    "collapsed": false
   }
  }
 ],
 "metadata": {
  "kernelspec": {
   "display_name": "Python 3 (ipykernel)",
   "language": "python",
   "name": "python3"
  },
  "language_info": {
   "codemirror_mode": {
    "name": "ipython",
    "version": 3
   },
   "file_extension": ".py",
   "mimetype": "text/x-python",
   "name": "python",
   "nbconvert_exporter": "python",
   "pygments_lexer": "ipython3",
   "version": "3.9.12"
  },
  "varInspector": {
   "cols": {
    "lenName": 16,
    "lenType": 16,
    "lenVar": 40
   },
   "kernels_config": {
    "python": {
     "delete_cmd_postfix": "",
     "delete_cmd_prefix": "del ",
     "library": "var_list.py",
     "varRefreshCmd": "print(var_dic_list())"
    },
    "r": {
     "delete_cmd_postfix": ") ",
     "delete_cmd_prefix": "rm(",
     "library": "var_list.r",
     "varRefreshCmd": "cat(var_dic_list()) "
    }
   },
   "types_to_exclude": [
    "module",
    "function",
    "builtin_function_or_method",
    "instance",
    "_Feature"
   ],
   "window_display": true
  }
 },
 "nbformat": 4,
 "nbformat_minor": 2
}
