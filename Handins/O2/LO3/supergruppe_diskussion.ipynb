{
 "cells": [
  {
   "cell_type": "markdown",
   "metadata": {},
   "source": [
    "# SWMAL Exercise\n",
    "\n",
    "\n",
    "## Supergruppe diskussion\n",
    "\n",
    "\n",
    "## § 2 \"End-to-End Machine Learning Project\" [HOML]\n",
    "\n",
    "Genlæs kapitel  § 2 og forbered mundtlig præsentation.\n",
    "\n",
    "## Forberedelse inden lektionen\n",
    "\n",
    "Een eller flere af gruppe medlemmer forbereder et mundtligt resume af § 2:\n",
    "\n",
    "* i skal kunne give et kort mundligt resume af hele § 2 til en anden gruppe (på nær, som nævnt, Create the Workspace og Download the Data),\n",
    "\n",
    "* resume holdes til koncept-plan, dvs. prøv at genfortælle, hvad de overordnede linier er i kapitlerne i [HOML].\n",
    "\n",
    "Lav et kort skriftlig resume af de enkelte underafsnit, ca. 5 til 20 liners tekst, se \"TODO\"-template herunder (MUST, til O2 aflevering).\n",
    "\n",
    "Kapitler (incl. underkapitler):\n",
    "\n",
    "* _Look at the Big Picture,_\n",
    "* _Get the Data,_\n",
    "* _Explore and Visualize the Data to Gain Insights,_ \n",
    "* _Prepare the Data for Machine Learning Algorithms,_\n",
    "* _Select and Train a Model,_\n",
    "* _Fine-Tune Your Model,_\n",
    "* _Launch, Monitor, and Maintain Your System,_\n",
    "* _Try It Out!._\n",
    "\n",
    "## På klassen\n",
    "\n",
    "Supergruppe [SG] resume af § 2 End-to-End, ca. 30 til 45 min.\n",
    "\n",
    "* en supergruppe [SG], sammensættes af to grupper [G], on-the-fly på klassen,\n",
    "\n",
    "* hver gruppe [G] forbereder og giver en anden gruppe [G] et mundtligt resume af § 2 til en anden gruppe,\n",
    "\n",
    "* tid: ca. 30 mim. sammenlagt, den ene grupper genfortæller første halvdel af § 2 i ca. 15 min., hvorefter den anden gruppe genfortæller resten i ca. 15 min."
   ]
  },
  {
   "cell_type": "markdown",
   "metadata": {},
   "source": [
    "#### Resume: Look at the Big Picture\n",
    "\n",
    "This chapter tells us about, machine learning in general. It gives us an idea on how we should frame our problem, so that we know what indicator/data we need for our machine learning model. The chapter talks selecting a performance measure, the example the books gives is RMSE (root-mean-square error) and MAE (mean absolute error). \n",
    "RMSE is generally a good choice if you are using a regression model, where MAE is more used in cases where there is many outliers.\n",
    "   It's a good idea as a last thing in this step to list and verify all assumptions that have been made this far in the process.\n",
    "\n",
    "#### Resume: Get the Data\n",
    "\n",
    "There are many different ways to gather data from. It might be available in an online database, or you might have to go collect your own data. It really depends on what you are making a machine learning model about. \n",
    "When you have the needed data, writing a function that handles the data automatically instead of doing the manual labor of decompressing all the data. \n",
    "\n",
    "Looking at your data structure is really important to know, when writing a machine learning model. Looking through your data as well, looking for outliers that can interfere with the model is really important to make sure the model is as accurate as possible. \n",
    "\n",
    "#### Resume: Explore and Visualize the Data to Gain Insights,\n",
    "\n",
    "Visualizing your training data beforehand is really important as to have something to compare your machine learning's data with, to get an idea of how good it's doing. \n",
    "It's also a good idea to get some correlation values as they can give an indication to whether there is any correlation between data points or not.   \n",
    "\n",
    "#### Resume: Prepare the Data for Machine Learning Algorithms\n",
    "\n",
    "For the preparation of the data for the algorithms it's a good idea to write some functions, that handles all the transformations as it makes it easier to reproduce transformation on different datasets to feed to the algorithms. It also makes it easier to feed data into a live running system. \n",
    "It's important in this step to remove data points that have missing values, there are 3 ways to handle missing data. Remove the outliers from the dataset, remove the attribute where data is missing or insert a 0 or something simular into the value.  \n",
    "\n",
    "#### Resume: Select and Train a Model\n",
    "\n",
    "Selecting a model is one of the most important things in machine learning. The best way to choose a model is to split the training data into a small test set and try the different models on the training data and seeing the outcome, this is called cross-validation \n",
    "\n",
    "#### Resume: Fine-Tune Your Model\n",
    "After choosing a model we need to fine-tune it to our specific use case. \n",
    "\n",
    "- Grid search \n",
    "\n",
    "\n",
    "\n",
    "#### Resume: Launch, Monitor, and Maintain Your System\n",
    "\n",
    "This chapter tells us about what to do when we get the approval to go live in production with our machine learning model. It's explains how we move our model from our test environment to production. They tell us about how we should keep filling the model with fresh data, write script to train and finetune the model automatically and to make a script the evaluates both the new and the old model.    \n",
    "\n",
    "#### Resume: Try It Out!.\n",
    "\n",
    "The last chapter is about trying out all the different things we already read about earlier in the chapter. "
   ]
  },
  {
   "cell_type": "markdown",
   "metadata": {},
   "source": [
    "REVISIONS||\n",
    "---------||\n",
    "2019-01-28| CEF, initial.\n",
    "2020-02-05| CEF, F20 ITMAL update.\n",
    "2021-08-17| CEF, E21 ITMAL update.\n",
    "2021-09-17| CEF, corrected some spell errors.\n",
    "2022-01-28| CEF, update to F22 SWMAL.\n",
    "2022-09-09| CEF, corrected 'MUST for O1' to 'MUST for O2' in text.\n",
    "2023-02-13| CEF, updated to HOML 3rd, removed exclude subsections in 'Get the Data' in this excercise, since the parts with python environments has been removed in HOML."
   ]
  }
 ],
 "metadata": {
  "kernelspec": {
   "display_name": "Python 3 (ipykernel)",
   "language": "python",
   "name": "python3"
  },
  "language_info": {
   "codemirror_mode": {
    "name": "ipython",
    "version": 3
   },
   "file_extension": ".py",
   "mimetype": "text/x-python",
   "name": "python",
   "nbconvert_exporter": "python",
   "pygments_lexer": "ipython3",
   "version": "3.9.12"
  },
  "varInspector": {
   "cols": {
    "lenName": 16,
    "lenType": 16,
    "lenVar": 40
   },
   "kernels_config": {
    "python": {
     "delete_cmd_postfix": "",
     "delete_cmd_prefix": "del ",
     "library": "var_list.py",
     "varRefreshCmd": "print(var_dic_list())"
    },
    "r": {
     "delete_cmd_postfix": ") ",
     "delete_cmd_prefix": "rm(",
     "library": "var_list.r",
     "varRefreshCmd": "cat(var_dic_list()) "
    }
   },
   "types_to_exclude": [
    "module",
    "function",
    "builtin_function_or_method",
    "instance",
    "_Feature"
   ],
   "window_display": false
  }
 },
 "nbformat": 4,
 "nbformat_minor": 2
}
