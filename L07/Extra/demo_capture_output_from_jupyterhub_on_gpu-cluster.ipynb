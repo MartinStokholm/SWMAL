{
 "cells": [
  {
   "cell_type": "markdown",
   "metadata": {},
   "source": [
    "##  SWMAL: Long running cells in JupyterHub\n",
    "\n",
    "..and how to capture output from 'em after closing Your browser or Your VPN connection.\n",
    "\n",
    "REVISIONS| |\n",
    "---------| |\n",
    "2018-04-07| CEF, initial.\n",
    "2022-03-24| CEF, update for SWMAL F22."
   ]
  },
  {
   "cell_type": "code",
   "execution_count": null,
   "metadata": {},
   "outputs": [],
   "source": [
    "%%capture output\n",
    "\n",
    "import time\n",
    "\n",
    "t=20\n",
    "done=False # \n",
    "print(\"Jupyter Hub test..\")\n",
    "print(f\"  long running cell, sleep for {t} seconds..\")\n",
    "\n",
    "print(f\"  beg: {time.ctime()}\")\n",
    "time.sleep(t)\n",
    "print(f\"  end: {time.ctime()}\")\n",
    "done=True"
   ]
  },
  {
   "cell_type": "code",
   "execution_count": null,
   "metadata": {},
   "outputs": [],
   "source": [
    "#print(f\"done={done}\")\n",
    "\n",
    "if done:\n",
    "    output.show() # displays captured output\n",
    "else:\n",
    "    print(\"cell above still seem to be running, wait some more..\")"
   ]
  }
 ],
 "metadata": {
  "kernelspec": {
   "display_name": "Python 3 (ipykernel)",
   "language": "python",
   "name": "python3"
  },
  "language_info": {
   "codemirror_mode": {
    "name": "ipython",
    "version": 3
   },
   "file_extension": ".py",
   "mimetype": "text/x-python",
   "name": "python",
   "nbconvert_exporter": "python",
   "pygments_lexer": "ipython3",
   "version": "3.9.7"
  },
  "varInspector": {
   "cols": {
    "lenName": 16,
    "lenType": 16,
    "lenVar": 40
   },
   "kernels_config": {
    "python": {
     "delete_cmd_postfix": "",
     "delete_cmd_prefix": "del ",
     "library": "var_list.py",
     "varRefreshCmd": "print(var_dic_list())"
    },
    "r": {
     "delete_cmd_postfix": ") ",
     "delete_cmd_prefix": "rm(",
     "library": "var_list.r",
     "varRefreshCmd": "cat(var_dic_list()) "
    }
   },
   "types_to_exclude": [
    "module",
    "function",
    "builtin_function_or_method",
    "instance",
    "_Feature"
   ],
   "window_display": true
  }
 },
 "nbformat": 4,
 "nbformat_minor": 4
}
